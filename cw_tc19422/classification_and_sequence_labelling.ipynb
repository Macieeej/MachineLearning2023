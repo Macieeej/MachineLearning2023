{
 "cells": [
  {
   "cell_type": "markdown",
   "id": "f679408e-a6be-4c41-a3e9-cc332f92caf7",
   "metadata": {},
   "source": [
    "# Classification and Sequence Labelling\n",
    "\n",
    "In this coursework you will apply some of the methods learned during the\n",
    "unit, and explore their behaviour using some real-world datasets. For the\n",
    "first set of tasks, we will be working with the dataset “Activity recognition\n",
    "with healthy older people using a batteryless wearable sensor”. This dataset\n",
    "contains sequences of readings taken from several sensors on a device worn\n",
    "by a person as they move about in a room. The goal is to predict the activity\n",
    "label for each data point, i.e., what the person was doing, which may be 1:\n",
    "sit on bed, 2: sit on chair, 3: lying, or 4: ambulating. To help you accessm\n",
    "the data, we provide a notebook “activity recognition.ipynb” in our Github\n",
    "repository (the same repository as the lab worksheets). The notebook code\n",
    "loads the data into a suitable format for the following tasks."
   ]
  },
  {
   "cell_type": "code",
   "execution_count": 1,
   "id": "49274941-12d2-40e5-8882-e6d1612530e3",
   "metadata": {},
   "outputs": [],
   "source": [
    "import numpy as np\n",
    "import pandas as pd\n",
    "import matplotlib.pyplot as plt\n",
    "from sklearn.metrics import classification_report, confusion_matrix, accuracy_score\n",
    "from sklearn.model_selection import train_test_split, learning_curve\n",
    "from sklearn.ensemble import RandomForestClassifier"
   ]
  },
  {
   "cell_type": "markdown",
   "id": "fcd88b81-4dd7-4808-a0ba-a18b957adc67",
   "metadata": {},
   "source": [
    "## Loading the Data\n",
    "\n",
    "Run the following cells to load the data from disk. You will need to run code from the subsequent sections (or your own code) to get the data into a suitable format for classification and sequence labelling.  "
   ]
  },
  {
   "cell_type": "code",
   "execution_count": 2,
   "id": "004552c2-ba13-4a6e-a9a6-4d3ef16193b6",
   "metadata": {},
   "outputs": [
    {
     "name": "stdout",
     "output_type": "stream",
     "text": [
      "['d1p22F', 'd1p58F', 'd1p39M', 'd1p37M', 'd1p55F', 'd1p09F', 'd1p30F', 'd1p56F', 'd1p46M', 'd1p59F', 'd1p42M', 'd1p47M', 'd1p08F', 'd1p33F', 'd1p25F', 'd1p14F', 'd1p03M', 'd1p29F', 'd1p02M', 'd1p19F', 'd1p16F', 'd1p20F', 'd1p36M', 'd1p40M', 'd1p57F', 'd1p11F', 'd1p31F', 'd1p13F', 'd1p49F', 'd1p38M', 'd1p41M', 'd1p07M', '.ipynb_checkpoints', 'd1p45M', 'd1p26F', 'README.txt', 'd1p10F', 'd1p35F', 'd1p24F', 'd1p44M', 'd1p52F', 'd1p50F', 'd1p27F', 'd1p01M', 'd1p48M', 'd1p15F', 'd1p53F', 'd1p51F', 'd1p04M', 'd1p28F', 'd1p21F', 'd1p34F', 'd1p06M', 'd1p18F', 'd1p23F', 'd1p12F', 'd1p43M', 'd1p32F', 'd1p54F', 'd1p17F', 'd1p05M', 'd1p60F']\n",
      "Could not load file .ipynb_checkpoints. Skipping.\n"
     ]
    }
   ],
   "source": [
    "import os\n",
    "\n",
    "data_path = \"activity_recognition_dataset/S1_Dataset\"\n",
    "\n",
    "files = os.listdir(data_path)\n",
    "print(files)\n",
    "\n",
    "# use pandas to load data from CSV files\n",
    "\n",
    "combined_data = []\n",
    "\n",
    "for file in files:\n",
    "    \n",
    "    if file == \"README.txt\":\n",
    "        continue\n",
    "    \n",
    "    try:\n",
    "        # load a single sequence from the file\n",
    "        seq_dataframe = pd.read_csv(os.path.join(data_path, file), header=None, names=[\"time\", \"frontal acc\", \"vertical acc\", \"lateral acc\", \"antenna ID\", \"RSSI\", \"phase\", \"frequency\", \"label\"])\n",
    "        \n",
    "        # put the ID of the sequence into the dataframe as an extra column\n",
    "        seq_dataframe['seqID'] = file  # use filename as ID\n",
    "                \n",
    "        combined_data.append(seq_dataframe)  # put the data frame into a list\n",
    "    except:\n",
    "        print(f\"Could not load file {file}. Skipping.\")"
   ]
  },
  {
   "cell_type": "markdown",
   "id": "e7b993f1-6c65-4c14-bd8b-4919a9c2f346",
   "metadata": {},
   "source": [
    "## Sequence Labelling\n",
    "\n",
    "The following cell creates two variables that you can use for sequence labelling:\n",
    "* X_by_seq is a list of 2-D numpy arrays. Each numpy array in this list corresponds to on data sequence and contains the input feature values for that sequence.\n",
    "* y_by_seq is a list of 1-D numpy arrays, where each array contains the target class labels for each sequence. "
   ]
  },
  {
   "cell_type": "code",
   "execution_count": 3,
   "id": "97adef1a-15a8-453d-ad04-b72e6bade85d",
   "metadata": {},
   "outputs": [
    {
     "name": "stdout",
     "output_type": "stream",
     "text": [
      "4\n"
     ]
    }
   ],
   "source": [
    "# the pandas dataframe stores data in a table with headers\n",
    "input_cols = [\"frontal acc\", \"vertical acc\", \"lateral acc\", \"RSSI\", \"phase\", \"frequency\"]  # column headers for the input features\n",
    "output_col = \"label\"  # column header for the output label\n",
    "\n",
    "# get the relevant columns from the pandas dataframes and convert to numpy arrays\n",
    "X_by_seq = []  # store a list of numpy arrays containing the input features for each sequence\n",
    "y_by_seq = []  # store a list of 1-D numpy arrays containing the target activity labels for each sequence\n",
    "\n",
    "for seq_table in combined_data:\n",
    "    X_by_seq.append(seq_table[input_cols].values)\n",
    "    y_by_seq.append(seq_table[output_col].values - 1)    # subtract one from the label so that labels start from 0\n",
    "    \n",
    "n_states = np.unique(np.concatenate(y_by_seq)).size  # how many classes/states are there?\n",
    "print(n_states)"
   ]
  },
  {
   "cell_type": "markdown",
   "id": "4c102d9a-e115-4f37-8165-b372c9219179",
   "metadata": {},
   "source": [
    "### Variables for sequence labelling\n",
    "\n",
    "The cell below produces the data you need for sequence labelling... You should be able to work with these variables directly."
   ]
  },
  {
   "cell_type": "code",
   "execution_count": 4,
   "id": "da9a3a4c-5f46-49bd-8e3f-9b1c30dc81bc",
   "metadata": {},
   "outputs": [],
   "source": [
    "from sklearn.model_selection import train_test_split\n",
    "\n",
    "# create train/test split. Sequences are kept complete.\n",
    "X_by_seq_tr, X_by_seq_test, y_by_seq_tr, y_by_seq_test = train_test_split(X_by_seq, y_by_seq, test_size=0.2, random_state=21)  # You may wish to make further splits of the data or to modify this split."
   ]
  },
  {
   "cell_type": "markdown",
   "id": "60b2eedb-c33e-48cd-8065-96a0075bd3ca",
   "metadata": {},
   "source": [
    "You may find the following code useful for creating a sequence labelling model:"
   ]
  },
  {
   "cell_type": "code",
   "execution_count": 5,
   "id": "27dea21c-0865-4cd6-a413-c5eaf2068345",
   "metadata": {},
   "outputs": [],
   "source": [
    "# Record which observations occur given each state (activity label)\n",
    "X_given_y = [[] for _ in range(n_states)]  # empty list where we will record the observations that occur given each activity label\n",
    "\n",
    "for s, X_seq in enumerate(X_by_seq_tr):\n",
    "    for i in range(X_seq.shape[0]):\n",
    "        state_i = y_by_seq_tr[s][i]\n",
    "        X_given_y[state_i].append(X_seq[i, :][None, :])\n",
    "        \n",
    "#print(X_given_y[0])"
   ]
  },
  {
   "cell_type": "code",
   "execution_count": 6,
   "id": "ceefcfcf-c1a6-4cbb-bdcb-2771ba3f2b63",
   "metadata": {},
   "outputs": [],
   "source": [
    "from hmmlearn import hmm  # We recommend using this class if builing an HMM\n",
    "\n",
    "# Record the mean feature values for observations in each state\n",
    "means = np.zeros((n_states, len(input_cols)))\n",
    "\n",
    "# Record the variance of feature values for observations in each state\n",
    "diagonal_covars = np.zeros((n_states, len(input_cols)))\n",
    "\n",
    "for state in range(n_states):\n",
    "    means[state] = np.mean(X_given_y[state], axis=0)\n",
    "    diagonal_covars[state, :] = np.var(X_given_y[state], axis=0)"
   ]
  },
  {
   "cell_type": "markdown",
   "id": "0750471a-4a8b-473e-95d3-32499be29887",
   "metadata": {},
   "source": [
    "## IID Classification\n",
    "\n",
    "In this code, we take the X and y lists produced for sequence labelling, and concatenate the data points for all sequences. This produces a single set of training data and a single set of test data, which are not divided into separate sequences.  "
   ]
  },
  {
   "cell_type": "code",
   "execution_count": 7,
   "id": "1b746c75-6e0b-422b-bde2-5d8635e689d4",
   "metadata": {},
   "outputs": [],
   "source": [
    "X_train = np.concatenate(X_by_seq_tr, axis=0)  # combine features into one matrix -- use this as input features for training a classifier\n",
    "y_train = np.concatenate(y_by_seq_tr)  # combine target labels into one list -- use this as target labels for training a classifier\n",
    "\n",
    "X_test = np.concatenate(X_by_seq_test, axis=0)  # combine features into one matrix -- use this as input features for testing a classifier\n",
    "y_test = np.concatenate(y_by_seq_test)  # combine target labels into one list -- use this as target labels for evaluating a classifier\n",
    "\n",
    "X = np.concatenate(X_by_seq, axis=0)  # combine features into one matrix -- use this as input features for testing a classifier\n",
    "y = np.concatenate(y_by_seq)  # combine target labels into one list -- use this as target labels for evaluating a classifier\n"
   ]
  },
  {
   "cell_type": "markdown",
   "id": "ff576193-8e84-4446-9659-87076d85a313",
   "metadata": {},
   "source": [
    "#### Task 1\n",
    "\n",
    "Implement and evaluate a neural network classifier for the activity\n",
    "recognition dataset. For this task, ignore the sequence of data points\n",
    "and use the classification data provided in the notebook. Your report\n",
    "should cover the following:"
   ]
  },
  {
   "cell_type": "markdown",
   "id": "2f981f62-995d-4720-a6d2-7dac74f95b30",
   "metadata": {
    "tags": []
   },
   "source": [
    "- (a) Train a neural network classifier and plot training and validation learning curves. Interpret and discuss your plots, considering over/underfitting."
   ]
  },
  {
   "cell_type": "code",
   "execution_count": 8,
   "id": "1c5e33d1-468e-40a7-a0d5-6a1022ba37af",
   "metadata": {},
   "outputs": [
    {
     "name": "stdout",
     "output_type": "stream",
     "text": [
      "Accuracy: 0.8819362455726092\n",
      "Accuracy Score: 0.8819362455726092\n"
     ]
    },
    {
     "data": {
      "image/png": "[encoded data removed]",
      "text/plain": [
       "<Figure size 640x480 with 1 Axes>"
      ]
     },
     "metadata": {},
     "output_type": "display_data"
    }
   ],
   "source": [
    "from sklearn.neural_network import MLPClassifier\n",
    "\n",
    "# Train the classifier\n",
    "mlp_model = MLPClassifier(hidden_layer_sizes=(100,), activation='relu', solver='adam', max_iter=300, random_state=21)\n",
    "#mlp_model = MLPClassifier(hidden_layer_sizes=(64), activation='relu', solver='sgd', max_iter=3000, n_iter_no_change=25, random_state=1)\n",
    "\n",
    "mlp_model.fit(X_train, y_train)\n",
    "\n",
    "# Make predictions\n",
    "y_pred = mlp_model.predict(X_test)\n",
    "\n",
    "# Evaluate the classifier\n",
    "accuracy = accuracy_score(y_test, y_pred)\n",
    "accuracy_scoree = mlp_model.score(X_test, y_test)\n",
    "print(f'Accuracy: {accuracy}')\n",
    "print(f'Accuracy Score: {accuracy_scoree}')\n",
    "#print(classification_report(y_test, y_pred))\n",
    "\n",
    "# Plot learning curves\n",
    "train_sizes, train_scores, test_scores = learning_curve(mlp_model, X, y, train_sizes=np.linspace(0.1, 1.0, 5), cv=5, n_jobs=-1)\n",
    "\n",
    "train_scores_mean = np.mean(train_scores, axis=1)\n",
    "train_scores_std = np.std(train_scores, axis=1)\n",
    "test_scores_mean = np.mean(test_scores, axis=1)\n",
    "test_scores_std = np.std(test_scores, axis=1)\n",
    "\n",
    "'''\n",
    "plt.fill_between(train_sizes, train_scores_mean - train_scores_std, train_scores_mean + train_scores_std, alpha=0.1, color=\"r\")\n",
    "plt.fill_between(train_sizes, test_scores_mean - test_scores_std, test_scores_mean + test_scores_std, alpha=0.1, color=\"g\")\n",
    "'''\n",
    "\n",
    "plt.plot(train_sizes, train_scores_mean, 'o-', color=\"r\", label=\"Training score\")\n",
    "plt.plot(train_sizes, test_scores_mean, 'o-', color=\"g\", label=\"Cross-validation score\")\n",
    "plt.title('Learning Curves')\n",
    "plt.xlabel('Training Examples')\n",
    "plt.ylabel('Score')\n",
    "plt.legend(loc=\"best\")\n",
    "\n",
    "plt.savefig(\"classAndSeq1.png\")\n",
    "\n",
    "plt.show()\n",
    "\n",
    "\n",
    "# Overfitting: The model may be overfitting as it has a high training score but a lower cross-validation score. Overfitting is when the model learns the training data too well, including noise and outliers, which does not generalize well to new data.\n",
    "# High Training Score: The training score is consistently high across the number of training examples, starting near perfect and remaining flat. This indicates the model is capable of learning the training data very well.\n",
    "# Increasing Cross-Validation Score: The cross-validation score increases with more training examples, which is typical as more data usually allows the model to generalize better. The curve is still ascending, suggesting that adding more data may continue to improve the model's performance on unseen data.\n",
    "# Gap Between Curves: There is a noticeable gap between the training and cross-validation scores. This gap indicates some overfitting since the model performs better on the training data than on the unseen cross-validation data. However, the gap does not appear to be widening with more data, which is a good sign.\n",
    "# Convergence of Curves: The curves do not seem to be converging, which means there might still be room for improvement. In a well-generalized model, we expect the training and validation curves to converge at a high score.\n"
   ]
  },
  {
   "cell_type": "markdown",
   "id": "5ca3f048-66c1-46f6-942b-8d93851fe555",
   "metadata": {},
   "source": [
    "- (b) Present and briefly discuss your results on the test set."
   ]
  },
  {
   "cell_type": "markdown",
   "id": "5977b9cb-f6d5-4e0f-967f-5228ae5e42bd",
   "metadata": {},
   "source": [
    "#### Task 2\n",
    "\n",
    "Implement and evaluate an ensemble method using decision trees\n",
    "as base models. Again, use the activity recognition classification data provided in the notebook and ignore the sequence of data points. "
   ]
  },
  {
   "cell_type": "markdown",
   "id": "0160d963-fe02-4839-90a1-b3d8fcb90511",
   "metadata": {},
   "source": [
    "- (a) Train an ensemble of decision trees, and briefly describe how your ensemble improves performance over a single model."
   ]
  },
  {
   "cell_type": "code",
   "execution_count": 9,
   "id": "4246efc4-0084-4b1d-8acc-166015f72f64",
   "metadata": {},
   "outputs": [],
   "source": [
    "from sklearn.tree import DecisionTreeClassifier\n",
    "from sklearn.ensemble import RandomForestClassifier\n",
    "from sklearn.model_selection import train_test_split\n",
    "from sklearn.metrics import accuracy_score, classification_report\n",
    "from sklearn.preprocessing import StandardScaler"
   ]
  },
  {
   "cell_type": "code",
   "execution_count": 10,
   "id": "12ec84b9-3e7d-4d87-a5e6-7e126e4c1655",
   "metadata": {},
   "outputs": [
    {
     "name": "stdout",
     "output_type": "stream",
     "text": [
      "Single Decision Tree Accuracy: 0.8874852420306966\n",
      "              precision    recall  f1-score   support\n",
      "\n",
      "           0       0.79      0.81      0.80      2124\n",
      "           1       0.41      0.35      0.38       589\n",
      "           2       1.00      1.00      1.00      5312\n",
      "           3       0.58      0.61      0.59       445\n",
      "\n",
      "    accuracy                           0.89      8470\n",
      "   macro avg       0.70      0.69      0.69      8470\n",
      "weighted avg       0.88      0.89      0.89      8470\n",
      "\n",
      "Random Forest Accuracy: 0.9181818181818182\n",
      "              precision    recall  f1-score   support\n",
      "\n",
      "           0       0.79      0.93      0.85      2124\n",
      "           1       0.63      0.36      0.46       589\n",
      "           2       1.00      1.00      1.00      5312\n",
      "           3       0.90      0.60      0.72       445\n",
      "\n",
      "    accuracy                           0.92      8470\n",
      "   macro avg       0.83      0.73      0.76      8470\n",
      "weighted avg       0.92      0.92      0.91      8470\n",
      "\n"
     ]
    }
   ],
   "source": [
    "# Scale the features\n",
    "scaler = StandardScaler()\n",
    "X_train_scaled = scaler.fit_transform(X_train)\n",
    "X_test_scaled = scaler.transform(X_test)\n",
    "\n",
    "# Train a single decision tree\n",
    "tree_clf = DecisionTreeClassifier(random_state=21)\n",
    "tree_clf.fit(X_train_scaled, y_train)\n",
    "\n",
    "# Train a Random Forest\n",
    "rf_clf = RandomForestClassifier(n_estimators=100, random_state=21)\n",
    "rf_clf.fit(X_train_scaled, y_train)\n",
    "\n",
    "# Evaluate the single decision tree\n",
    "y_pred_tree = tree_clf.predict(X_test_scaled)\n",
    "accuracy_tree = accuracy_score(y_test, y_pred_tree)\n",
    "print(f'Single Decision Tree Accuracy: {accuracy_tree}')\n",
    "print(classification_report(y_test, y_pred_tree))\n",
    "\n",
    "# Evaluate the Random Forest\n",
    "y_pred_rf = rf_clf.predict(X_test_scaled)\n",
    "accuracy_rf = accuracy_score(y_test, y_pred_rf)\n",
    "print(f'Random Forest Accuracy: {accuracy_rf}')\n",
    "print(classification_report(y_test, y_pred_rf))\n",
    "\n",
    "'''\n",
    "\n",
    "This code trains a single decision tree and a Random Forest on the same dataset and evaluates their performance.\n",
    "\n",
    "How the Ensemble Improves Performance:\n",
    "\n",
    "Reduced Overfitting: Single decision trees are prone to overfitting the training data, especially with complex datasets. Random Forest mitigates this by averaging the predictions from multiple trees, each trained on a random subset of the data.\n",
    "Improved Accuracy: By combining the predictions of many trees, Random Forest often achieves higher accuracy than a single decision tree.\n",
    "Handling Unbalanced Data: Random Forest can handle unbalanced datasets by balancing errors in the individual trees.\n",
    "Robustness to Noise: Individual trees might be sensitive to noise in the training data, but when combined in an ensemble, the overall effect of noise is reduced.\n",
    "After running the code, compare the accuracy and other metrics like precision, recall, and F1-score of the single decision tree and the Random Forest. The improvement in these metrics with Random Forest will illustrate the benefits of using an ensemble over a single model.\n",
    "\n",
    "'''"
   ]
  },
  {
   "cell_type": "markdown",
   "id": "a30266cb-4299-4119-bee3-081d40cdf1e6",
   "metadata": {},
   "source": [
    "- (b) Present and briefly discuss your results on the test set. "
   ]
  },
  {
   "cell_type": "markdown",
   "id": "9252a5cc-b2a3-442e-a10d-dc3932c1cdb7",
   "metadata": {},
   "source": [
    "Accuracy:\n",
    "\n",
    "Compare the accuracy scores of the single decision tree and the Random Forest. Typically, the Random Forest should have a higher accuracy due to its ensemble nature.\n",
    "Discuss why there is a difference in accuracy. The ensemble method often performs better due to reduced overfitting and improved generalization.\n",
    "Precision, Recall, and F1-Score:\n",
    "\n",
    "Look at these metrics for each class in the classification report.\n",
    "The Random Forest might show a more balanced performance across different classes compared to the single decision tree, especially if the dataset is imbalanced.\n",
    "Highlight any significant differences in these metrics between the two models and what they imply about their respective performances.\n",
    "Overfitting/Underfitting:\n",
    "\n",
    "If the single decision tree has a much higher accuracy on the training set compared to the test set, but the Random Forest has more consistent performance, it indicates that the Random Forest is better at generalizing and less prone to overfitting.\n",
    "Discuss the implications of these findings in terms of model robustness and reliability.\n",
    "General Observations:\n",
    "\n",
    "If the Random Forest did not outperform the single tree significantly, explore possible reasons, such as the nature of the data, the complexity of the decision boundaries, or the configuration of the models.\n",
    "Consider any specific characteristics of the dataset that might affect the performance of ensemble methods versus a single model.\n",
    "Practical Implications:\n",
    "\n",
    "Reflect on what the results mean for practical applications. For example, if you are developing a model for real-world deployment, consider the trade-offs between the simplicity and interpretability of a single tree versus the improved accuracy but increased complexity of a Random Forest.\n",
    "Remember, the goal of this discussion is to understand not just which model performed better, but why, and how this relates to the underlying mechanics of single decision trees versus ensemble methods like Random Forests."
   ]
  }
 ],
 "metadata": {
  "kernelspec": {
   "display_name": "Python 3 (ipykernel)",
   "language": "python",
   "name": "python3"
  },
  "language_info": {
   "codemirror_mode": {
    "name": "ipython",
    "version": 3
   },
   "file_extension": ".py",
   "mimetype": "text/x-python",
   "name": "python",
   "nbconvert_exporter": "python",
   "pygments_lexer": "ipython3",
   "version": "3.11.6"
  }
 },
 "nbformat": 4,
 "nbformat_minor": 5
}
