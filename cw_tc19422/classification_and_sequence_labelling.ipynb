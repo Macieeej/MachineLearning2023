{
 "cells": [
  {
   "cell_type": "markdown",
   "id": "f679408e-a6be-4c41-a3e9-cc332f92caf7",
   "metadata": {},
   "source": [
    "# Classification and Sequence Labelling (50 marks)\n",
    "\n",
    "In this coursework you will apply some of the methods learned during the\n",
    "unit, and explore their behaviour using some real-world datasets. For the\n",
    "first set of tasks, we will be working with the dataset “Activity recognition\n",
    "with healthy older people using a batteryless wearable sensor”. This dataset\n",
    "contains sequences of readings taken from several sensors on a device worn\n",
    "by a person as they move about in a room. The goal is to predict the activity\n",
    "label for each data point, i.e., what the person was doing, which may be 1:\n",
    "sit on bed, 2: sit on chair, 3: lying, or 4: ambulating. To help you accessm\n",
    "the data, we provide a notebook “activity recognition.ipynb” in our Github\n",
    "repository (the same repository as the lab worksheets). The notebook code\n",
    "loads the data into a suitable format for the following tasks."
   ]
  }
 ],
 "metadata": {
  "kernelspec": {
   "display_name": "Python 3 (ipykernel)",
   "language": "python",
   "name": "python3"
  },
  "language_info": {
   "codemirror_mode": {
    "name": "ipython",
    "version": 3
   },
   "file_extension": ".py",
   "mimetype": "text/x-python",
   "name": "python",
   "nbconvert_exporter": "python",
   "pygments_lexer": "ipython3",
   "version": "3.11.6"
  }
 },
 "nbformat": 4,
 "nbformat_minor": 5
}
