{
 "cells": [
  {
   "cell_type": "markdown",
   "metadata": {
    "tags": []
   },
   "source": [
    "# Lab 3: Bayesian Networks, Markov Chain Monte Carlo (MCMC) and PyMC\n",
    "\n",
    "In this lab we will focus on expressing probability distributions in the form of Bayesian Networks and using PyMC to (approximately) sample from these distributions and perform inference. \n",
    "\n",
    "The last set of exercises in this lab will require the use of the [`pymc`](https://docs.pymc.io/) package so make sure to have this installed now (recommended) or before you get started on that section. The PyMC [`installation instructions`](https://www.pymc.io/projects/docs/en/stable/installation.html) suggest that you install PyMC into a new conda environment. If you do that (and I would recommend it) you need to make sure any jupyter notebooks are run inside that conda environment. You can make this happen by first activating the conda environment and then installing jupyter in it. For example, if you chose to call your PyMC conda environment `pymc_env` then this should work (assuming you have conda set up correctly):\n",
    "\n",
    "``conda activate pymc_env\n",
    "conda install jupyter\n",
    "``\n",
    "\n",
    "OK, let's now get on with the exercises. First, we will import the required packages for the initial exercises:"
   ]
  },
  {
   "cell_type": "code",
   "execution_count": 1,
   "metadata": {},
   "outputs": [],
   "source": [
    "import numpy as np\n",
    "import matplotlib.pyplot as plt\n",
    "from scipy.stats import norm\n",
    "%matplotlib inline "
   ]
  },
  {
   "cell_type": "markdown",
   "metadata": {},
   "source": [
    "## 1) Ancestral Sampling\n",
    "\n",
    "We will first recap the concept of ancestral sampling from lectures. Familiarise yourself with the example of a simple Bayesian network shown below. \n",
    "\n",
    "(C=Cloudy, R=Rain, S=Sprinkler, W=Wet Grass and T/F refer to True/False)"
   ]
  },
  {
   "cell_type": "markdown",
   "metadata": {},
   "source": [
    "<img src=\"toy_graphical_model.png\" width=\"700\">"
   ]
  },
  {
   "cell_type": "markdown",
   "metadata": {},
   "source": [
    "This Bayesian network models the joint distribution over 4 variables P(**C**, **R**, **S**, **W**). To save time, the probability mass function for each of these variables are provided as Python functions below:"
   ]
  },
  {
   "cell_type": "code",
   "execution_count": 2,
   "metadata": {},
   "outputs": [],
   "source": [
    "def P_C():\n",
    "    return 0.5\n",
    "\n",
    "def P_R(C):\n",
    "    return 0.2 if C == False else 0.8\n",
    "\n",
    "def P_S(C):\n",
    "    return 0.5 if C == False else 0.1\n",
    "\n",
    "def P_W(R, S):\n",
    "    if R == False:\n",
    "        return 0.0 if S == False else 0.9\n",
    "    else:\n",
    "        return 0.9 if S == False else 0.99"
   ]
  },
  {
   "cell_type": "markdown",
   "metadata": {},
   "source": [
    "The concept of ancestral sampling is very simple and refers to a method of sampling from a distribution over multiple variables by first sampling from nodes in the graph that have no parents and then sampling from their child nodes conditioned on those sampled values. This process of sampling the child node variables conditioned on their parents is repeated until all nodes in the graph have a sampled value (remember that a valid graph must be acyclic so this process will always terminate with a finite number of nodes).\n",
    "\n",
    "### 1.1) Perform Ancestral Sampling\n",
    "\n",
    "Use the above functions to:\n",
    "1. Perform ancestral sampling to generate a number of samples (~100-1000 samples) from the joint distribution. (hint [np.random.rand](https://numpy.org/doc/stable/reference/random/generated/numpy.random.rand.html) or [np.random.choice](https://numpy.org/doc/stable/reference/random/generated/numpy.random.choice.html) are helpful to do this)\n",
    "2. Store the generated samples in a list of the form: [[$\\textbf{C}_1$, $\\textbf{R}_1$, $\\textbf{S}_1$, $\\textbf{W}_1$],[$\\textbf{C}_2$, $\\textbf{R}_2$, $\\textbf{S}_2$, $\\textbf{W}_2$], ...] where 1 and 2 refer to sample indices."
   ]
  },
  {
   "cell_type": "code",
   "execution_count": 3,
   "metadata": {
    "scrolled": true
   },
   "outputs": [
    {
     "name": "stdout",
     "output_type": "stream",
     "text": [
      "Sample 1: [True, True, False, True]\n",
      "Sample 2: [True, True, False, True]\n",
      "Sample 3: [False, False, True, True]\n",
      "Sample 4: [False, False, False, False]\n",
      "Sample 5: [True, False, False, False]\n"
     ]
    }
   ],
   "source": [
    "def generate_sample():\n",
    "    C = np.random.choice([True, False], p=[P_C(), 1 - P_C()])\n",
    "    R = np.random.choice([True, False], p=[P_R(C), 1 - P_R(C)])\n",
    "    S = np.random.choice([True, False], p=[P_S(C), 1 - P_S(C)])\n",
    "    W = np.random.choice([True, False], p=[P_W(R, S), 1 - P_W(R, S)])\n",
    "    \n",
    "    return [C, R, S, W]\n",
    "\n",
    "# Generate a list of samples\n",
    "num_samples = 200  # You can adjust the number of samples as needed\n",
    "samples = [generate_sample() for _ in range(num_samples)]\n",
    "\n",
    "# Print the first few samples\n",
    "for i in range(5):\n",
    "    print(f\"Sample {i + 1}: {samples[i]}\")"
   ]
  },
  {
   "cell_type": "markdown",
   "metadata": {},
   "source": [
    "The ability to obtain a large number of samples from the joint distribution like this is very powerful because it allows for estimates of many different quantities relating to the distribution to be calculated. Use the list of samples to compute and print out estimates of the following: \n",
    "- Marginal distributions of each variable: P(**C**), P(**R**), P(**S**) and P(**W**).\n",
    "- Conditional distributions of each variable where **W**=T: P(**C** | **W**=T), P(**R** | **W**=T) and P(**S** | **W**=T) (hint discard samples where **W**=F).\n",
    "\n"
   ]
  },
  {
   "cell_type": "code",
   "execution_count": 4,
   "metadata": {},
   "outputs": [
    {
     "name": "stdout",
     "output_type": "stream",
     "text": [
      "0.485\n",
      "0.455\n",
      "0.35\n",
      "0.66\n",
      "\n",
      "0.5151515151515151\n",
      "0.6136363636363636\n",
      "0.49242424242424243\n"
     ]
    }
   ],
   "source": [
    "\"\"\"\n",
    "Marginal distributions refer to the probability distribution of a single variable in isolation, ignoring the values of other variables. For example:\n",
    "    P(C): This is the probability distribution of variable C without considering the values of variables R, S, or W.\n",
    "    It represents the likelihood of C being True or False without regard to the other variables.\n",
    "    To obtain marginal distributions, you calculate the probabilities of a variable taking each of its possible values (e.g., True or False)\n",
    "    without considering other variables. In the provided code, this is done by counting how many times a variable is True in the generated samples\n",
    "    and dividing by the total number of samples.\n",
    "\"\"\"\n",
    "def marginal_dist(samples, variable):\n",
    "    variable_count = 0\n",
    "    for sample in samples:\n",
    "        if sample[variable]==True:\n",
    "            variable_count += 1\n",
    "            \n",
    "    return variable_count / len(samples)\n",
    "\n",
    "C_marginal_dist = marginal_dist(samples, 0)\n",
    "R_marginal_dist = marginal_dist(samples, 1)\n",
    "S_marginal_dist = marginal_dist(samples, 2)\n",
    "W_marginal_dist = marginal_dist(samples, 3)\n",
    "\n",
    "print(C_marginal_dist)\n",
    "print(R_marginal_dist)\n",
    "print(S_marginal_dist)\n",
    "print(W_marginal_dist)\n",
    "\n",
    "def conditional_dist(samples, var1, var2):\n",
    "    variable_count = 0\n",
    "    valid_samples_count = 0\n",
    "    for sample in samples:\n",
    "        if sample[var2]==True:\n",
    "            valid_samples_count += 1\n",
    "            if sample[var1]==True:\n",
    "                variable_count += 1\n",
    "    return variable_count/valid_samples_count\n",
    "\n",
    "            \n",
    "\n",
    "C_conditional_dist = conditional_dist(samples, 0, 3)\n",
    "R_conditional_dist = conditional_dist(samples, 1, 3)\n",
    "S_conditional_dist = conditional_dist(samples, 2, 3)\n",
    "\n",
    "print()\n",
    "print(C_conditional_dist)\n",
    "print(R_conditional_dist)\n",
    "print(S_conditional_dist)"
   ]
  },
  {
   "cell_type": "markdown",
   "metadata": {},
   "source": [
    "For this simple example distribution you may have noticed that exact values for all of these quantities could have been computed directly without the need for sampling. However, as we will see in the following exercises there are many cases where sampling is still feasible but exact or direct computation is not."
   ]
  },
  {
   "cell_type": "markdown",
   "metadata": {},
   "source": [
    "## 2) Markov Chain Monte Carlo\n",
    "\n",
    "Markov Chain Monte Carlo methods are a set of algorithms with the purpose of generating samples from a distribution. Let's break down the meaning of the individual terms:\n",
    "  - **Monte Carlo** simply refers to the idea of approximating a complicated system with a statistical sample.\n",
    "  - A **Markov chain** refers to a stochastic process involving a number of probabilisitic state transitions from one state to another. The **Markov** property states that any given state transition probability is determined by only the current state not any of the preceding states.\n",
    " \n",
    "Together, Markov Chain Monte Carlo methods are a set of methods that utilise a Markov chain to (approximately) generate samples from some desired distribution. The Markov chain transition probabilites are set up in such a way that the sequence of probability distributions from which sampled states of the chain are drawn will eventually converge to this desired distribution. Note that the initial states of the chain may be sampled from distributions far from the desired distribution which is why they are typically discarded."
   ]
  },
  {
   "cell_type": "markdown",
   "metadata": {},
   "source": [
    "### 2.1) Defining a Gaussian probability density function\n",
    "We will first define a simple distribution that we intend to generate samples from. In the cell below, create a function `gaussian_pdf` that has parameters mean ($\\mu$) and standard deviation ($\\sigma$) and returns a function for the Gaussian probability density function corresponding to those parameters: $$\\Large p(x) = \\frac{1}{\\sqrt{2\\pi\\sigma^2}}e^{-\\frac{1}{2}(\\frac{x-\\mu}{\\sigma})^2}$$\n",
    "\n",
    "You are free to use the `norm` function from [`scipy.stats.norm`](https://docs.scipy.org/doc/scipy/reference/generated/scipy.stats.norm.html) or define this function directly from the equation using `numpy`. Note that `gaussian_pdf` should take just two parameters (`mu` and `sigma`) and should **return a function** $p(x)$ that takes a single parameter.\n",
    "\n",
    "For this implementation it may be useful to use a `lambda` function which is a very useful `Python` feature that allows the creation of anonymous functions. If this concept is unfamiliar to you then please see this python tutorial [here](https://www.w3schools.com/python/python_lambda.asp)."
   ]
  },
  {
   "cell_type": "code",
   "execution_count": 5,
   "metadata": {},
   "outputs": [],
   "source": [
    "def gaussian_pdf(mu, sigma):\n",
    "  return lambda x : (1/np.sqrt(2*np.pi*pow(sigma, 2)))*(pow(np.exp(1), (-1/2)*(pow((x-mu)/sigma, 2))))\n"
   ]
  },
  {
   "cell_type": "markdown",
   "metadata": {},
   "source": [
    "The code below uses this function to create and plot a Gaussian pdf with `mu=0.0` and `sigma=1.0`."
   ]
  },
  {
   "cell_type": "code",
   "execution_count": 6,
   "metadata": {},
   "outputs": [
    {
     "data": {
      "image/png": "[encoded data removed]",
      "text/plain": [
       "<Figure size 1000x500 with 1 Axes>"
      ]
     },
     "metadata": {},
     "output_type": "display_data"
    }
   ],
   "source": [
    "true_mean = 0.0\n",
    "true_variance = 1.0\n",
    "\n",
    "z = np.linspace(-5.0, 5.0, 500)\n",
    "true_pdf = gaussian_pdf(mu=true_mean, sigma=np.sqrt(true_variance))\n",
    "\n",
    "#def gaussian_mixture_pdf(mu_1, sigma_1, mixing_weight_1, mu_2, sigma_2, mixing_weight_2):\n",
    "#    gaussian1 = gaussian_pdf(mu_1, sigma_1)\n",
    "#    gaussian2 = gaussian_pdf(mu_2, sigma_2)\n",
    "#    return lambda x: mixing_weight_1 * gaussian1(x) + mixing_weight_2 * gaussian2(x)\n",
    "\n",
    "#true_pdf = gaussian_mixture_pdf(2.0, 0.5, 1.0, -2.0, 0.5, 1.0)\n",
    "\n",
    "\n",
    "\n",
    "plt.figure(figsize=(10,5))\n",
    "plt.plot(z, true_pdf(z))\n",
    "#plt.plot(z, gaussian_mixture_pdf)\n",
    "plt.xlabel('$x$')\n",
    "plt.ylabel('$p(x)$')\n",
    "plt.show()"
   ]
  },
  {
   "cell_type": "markdown",
   "metadata": {},
   "source": [
    "### 2.2) Metropolis Algorithm"
   ]
  },
  {
   "cell_type": "markdown",
   "metadata": {},
   "source": [
    "The Metropolis Algorithm is one of the simplest instances of a Markov Chain Monte Carlo method. The goal of the algorithm is to generate samples from some distribution $p(z)$ which in our case is a univariate Gaussian distribution. Let us assume that we do not have an easy way to sample from this distribution (in reality this distribution is very easy to sample from) and that we can only evaluate the unnormalised density, $\\tilde{p}(z)$, where\n",
    "$$\\large p(z) = \\frac{\\tilde{p}(z)}{Z_p}$$ and $Z_p$ may be unknown or computationally intractable. \n",
    "\n",
    "To generate samples, $z_1, z_2, ... z_N$ , from $p(z)$ using an MCMC method such as the Metropolis algorithm we must first define a proposal distribution, $q(z_{t+1}^\\star \\vert z_{t})$, that uses the current state in the chain, $z_t$, to propose new states, $z_{t+1}^\\star$. The only requirements for this proposal distribution are that it can easily be sampled directly and that it is symmetric (although this method can be extended for non-symmetric proposal distributions). For simplicity, in this case we will choose to use a Gaussian proposal distribution with a mean of $z_t$ and a fixed variance $\\sigma_\\star^2$: \n",
    "$$\\large z_{t+1}^\\star \\sim \\mathcal{N}(z_t, \\sigma_\\star^2)$$\n",
    "\n",
    "[comment]: <> (At this point, to clarify, we have an unnormalised density corresponding to the distribution that we wish to be able to sample from and proposal distribution that we can easily sample from. Both distributions are Gaussian to keep things simple for this exercise but remember that this algorithm can be applied to any density.)\n",
    "\n",
    "An initial value for the first state, $z_1$, is chosen at the beginning and is used to propose a value for the next state. The newly proposed value is either accepted as the next state in the chain, $z_2 = z_2^\\star$, or it is rejected, $z_2 = z_1$. Acceptance occurs probabilistically with an acceptance probability of:\n",
    "$$\\large A(z_{t+1}^\\star, z_t) = \\text{min}\\Big(1, \\frac{\\tilde{p}(z_{t+1}^\\star)}{\\tilde{p}(z_t)}\\Big)$$.\n",
    "\n",
    "Note that when $\\tilde{p}(z_{t+1}^\\star)\\geq\\tilde{p}(z_t)$ the new sample is always accepted. It turns out that if we take enough samples in this way then the distribution of $z_t$ converges to $p(z)$."
   ]
  },
  {
   "cell_type": "markdown",
   "metadata": {},
   "source": [
    "Implement the Metropolis algorithm described above and use it to generate samples $z_t$ such that $p(z_{t})$ converges to `gaussian_pdf` with `mu=0.0` and `sigma=1.0`. Set your initial sample value $z_1=0$ and the proposal distribution variance $\\sigma_\\star^2=0.25$. (hint sampling from the proposal distribution can be achieved using [np.random.normal](https://numpy.org/doc/stable/reference/random/generated/numpy.random.normal.html))\n",
    "\n",
    "The plotting functions `plot_samples` and `plot_samples_histogram` have been provided to help with visualising your implementation:\n",
    "- Both functions require the `true_pdf` function and a list of generated samples `samples_list` as arguments.\n",
    "- `plot_samples` generates a single plot per sample so this should be used with a small number of samples ($N\\leq20$).\n",
    "- `plot_samples_histogram` creates a single histogram plot and is a better visualisation for a larger number of samples ($N\\geq5000$)"
   ]
  },
  {
   "cell_type": "code",
   "execution_count": 7,
   "metadata": {},
   "outputs": [],
   "source": [
    "def plot_samples(true_pdf, samples_list):\n",
    "    assert len(samples_list) <= 20, \"Number of samples too high! Please call this function with a maximum of 20 samples.\"\n",
    "    for i in range(1, len(samples_list)):\n",
    "        plt.figure(figsize=(10,5))\n",
    "        plt.plot(z, true_pdf(z))\n",
    "        for sample in samples_list[:i-1]:\n",
    "            plt.axvline(sample, c='green')\n",
    "        plt.axvline(samples_list[i-1], c='red')\n",
    "        plt.show()\n",
    "\n",
    "def plot_samples_histogram(true_pdf, samples_list):\n",
    "    plt.figure(figsize=(10,5))\n",
    "    plt.plot(z, true_pdf(z))\n",
    "    plt.hist(samples_list, density=True, histtype='step', bins=50)\n",
    "    plt.show()"
   ]
  },
  {
   "cell_type": "code",
   "execution_count": 8,
   "metadata": {},
   "outputs": [
    {
     "data": {
      "image/png": "[encoded data removed]",
      "text/plain": [
       "<Figure size 1000x500 with 1 Axes>"
      ]
     },
     "metadata": {},
     "output_type": "display_data"
    }
   ],
   "source": [
    "# Define the proposal distribution (Gaussian with fixed variance)\n",
    "def proposal_distribution(z_t, sigma_star):\n",
    "    return np.random.normal(z_t, sigma_star)\n",
    "\n",
    "# Metropolis algorithm implementation\n",
    "def metropolis_algorithm(N, mu, sigma, sigma_star, initial_sample):\n",
    "    samples_list = [initial_sample]\n",
    "    accepted_count = 0\n",
    "\n",
    "    for _ in range(1, N):\n",
    "        z_t = samples_list[-1]  # Current state\n",
    "        z_star = proposal_distribution(z_t, sigma_star)  # Proposed state\n",
    "\n",
    "        # Compute acceptance probability\n",
    "        acceptance_prob = min(1, true_pdf(z_star) / true_pdf(z_t))\n",
    "\n",
    "        # Accept or reject the proposed state\n",
    "        if np.random.rand() < acceptance_prob:\n",
    "            samples_list.append(z_star)\n",
    "            accepted_count += 1\n",
    "        else:\n",
    "            samples_list.append(z_t)\n",
    "\n",
    "    acceptance_rate = accepted_count / (N - 1)\n",
    "    return samples_list, acceptance_rate\n",
    "\n",
    "# Parameters\n",
    "N = 20000  # Number of samples\n",
    "mu = 0.0\n",
    "sigma = 1.0\n",
    "sigma_star = 0.25\n",
    "initial_sample = 0.0\n",
    "\n",
    "# Generate samples using Metropolis algorithm\n",
    "samples_list, acceptance_rate = metropolis_algorithm(N, mu, sigma, sigma_star, initial_sample)\n",
    "#plot_samples(true_pdf, samples_list)\n",
    "plot_samples_histogram(true_pdf, samples_list)"
   ]
  },
  {
   "cell_type": "markdown",
   "metadata": {},
   "source": [
    "### Exercises:\n",
    "1. Estimate the mean and variance of the true distribution from your samples. How does the accuracy of these estimates change if you generate more samples?\n",
    "2. The current implementation uses a normalised Gaussian pdf. Think about what would happen if the density function was unnormalised. Change `gaussian_pdf` to multiply all of its outputs by some constant value and check that you were correct.\n",
    "3. Go back to Section 2.1 and experiment with different density functions:\n",
    "    - Create a function `gaussian_mixture_pdf` that returns the density function for a mixture of two Gaussians with parameters: $\\mu_1 = -2, \\sigma_1=0.5, \\mu_2=2, \\sigma_2=0.5$. This can be achieved simply by creating the two density functions separately using `gaussian_pdf` and summing the result. Set this density to `true_pdf` and run the rest of your code again to generate and plot the distribution of samples from the Gaussian mixture. What do you notice about the distribution of your samples?\n",
    "    - (Optional) Implement the density function for a Uniform distribution, `uniform_pdf`, over the range $(-2, 2)$ and run the code again. (hint: you can use [scipy.stats.uniform](https://docs.scipy.org/doc/scipy/reference/generated/scipy.stats.uniform.html) or implement it yourself using numpy)."
   ]
  },
  {
   "cell_type": "code",
   "execution_count": 9,
   "metadata": {},
   "outputs": [
    {
     "name": "stdout",
     "output_type": "stream",
     "text": [
      "-0.09202620642935733\n",
      "1.021298879171335\n"
     ]
    }
   ],
   "source": [
    "# 1.\n",
    "print(np.mean(samples_list))\n",
    "print(np.var(samples_list))\n",
    "# The accuracy of the estimates should increase with the number of samples."
   ]
  },
  {
   "cell_type": "code",
   "execution_count": 10,
   "metadata": {},
   "outputs": [],
   "source": [
    "# 2.\n",
    "# The distribution of samples should remain the same i.e. normalised pdfs are not neccessary when sampling in this way."
   ]
  },
  {
   "cell_type": "code",
   "execution_count": 11,
   "metadata": {},
   "outputs": [],
   "source": [
    "# 3.\n",
    "# The gaussian_mixture_pdf and uniform_pdf implementations are given in the cell in section 2.1.\n",
    "# It should be noticed that there are often many more samples from one of the two Gaussians."
   ]
  },
  {
   "cell_type": "markdown",
   "metadata": {},
   "source": [
    "# write your code here\n"
   ]
  },
  {
   "cell_type": "markdown",
   "metadata": {},
   "source": [
    "## 3) Bayesian Linear Regression with PyMC\n",
    "\n",
    "You should be familiar with the concept of linear regression week 2 lectures and lab and its Bayesian formulation week 3 lectures and Bishop 3.3. In this section we will recap the key ideas and explore how such a model can be defined and fitted to some example data in practice."
   ]
  },
  {
   "cell_type": "markdown",
   "metadata": {},
   "source": [
    "### Introducing PyMC\n",
    "[PyMC](https://docs.pymc.io/) is a library that provides a lot of useful functionality for working with probabilistic models in Python. Importantly, it allows for Bayesian networks to be programmatically defined and it provides efficient implementations of a number of different MCMC methods including the Metropolis algorithm.\n",
    "\n",
    "If you haven't done so already then please make sure you have installed `pymc` before proceeding. PyMC uses [`ArviZ`](https://python.arviz.org/en/latest/index.html) for plotting etc, so we start by importing both pymc and arviz:"
   ]
  },
  {
   "cell_type": "code",
   "execution_count": 12,
   "metadata": {},
   "outputs": [
    {
     "name": "stderr",
     "output_type": "stream",
     "text": [
      "WARNING (pytensor.tensor.blas): Using NumPy C-API based implementation for BLAS functions.\n"
     ]
    }
   ],
   "source": [
    "import pymc as pm\n",
    "import arviz as az"
   ]
  },
  {
   "cell_type": "markdown",
   "metadata": {},
   "source": [
    "### 3.1) Generating some example data for our linear model\n",
    "We will first generate some example data $\\mathcal{D}=\\{(x_i, y_i)\\}_N$ where $$ y_i = w_0 + w_1x_i + \\epsilon$$ with $w_0=6$, $w_1=2$, $\\epsilon \\sim \\mathcal{N}(\\mu=0, \\sigma=1)$."
   ]
  },
  {
   "cell_type": "code",
   "execution_count": 13,
   "metadata": {},
   "outputs": [],
   "source": [
    "n = 50\n",
    "true_w0 = 6\n",
    "true_w1 = 2\n",
    "true_sigma = 1\n",
    "\n",
    "x = np.linspace(0, 1, n)\n",
    "y = true_w0 + true_w1*x + np.random.normal(scale=true_sigma, size=n)"
   ]
  },
  {
   "cell_type": "markdown",
   "metadata": {},
   "source": [
    "Make a scatter plot of the data points and plot the line corresponding to the mean of $y$ using the known parameters."
   ]
  },
  {
   "cell_type": "code",
   "execution_count": 14,
   "metadata": {},
   "outputs": [
    {
     "data": {
      "image/png": "[encoded data removed]",
      "text/plain": [
       "<Figure size 500x500 with 1 Axes>"
      ]
     },
     "metadata": {},
     "output_type": "display_data"
    }
   ],
   "source": [
    "plt.figure(figsize=(5,5))\n",
    "plt.scatter(x, y, marker='x')\n",
    "plt.plot(x, true_w0 + true_w1*x, c='r')\n",
    "plt.xlabel('$x$')\n",
    "plt.ylabel('$y$')\n",
    "plt.show()"
   ]
  },
  {
   "cell_type": "markdown",
   "metadata": {},
   "source": [
    "### 3.2) Bayesian Linear Regression model in PyMC\n",
    "\n",
    "Without knowledge of the true model parameters, the goal of Bayesian linear regression is to obtain a distribution (posterior) over the model parameters from the data, $P(w_0,w_1,\\sigma \\vert \\mathcal{D})$. First we need to define a prior over each of the three parameters. Let's choose fairly 'flat' priors (high variance) representing a lack of prior knowledge as to the true values of the parameters:\n",
    "\n",
    "- $p(w_0) = \\mathcal{N}(0, 20)$\n",
    "- $p(w_1) = \\mathcal{N}(0, 20)$\n",
    "- $p(\\sigma) = U(0, 20)$\n",
    "\n",
    "Below is the code to define this model in `pymc`. Note that this code performs MCMC using a No U-Turn Sampler (NUTS) which operates using the same principles as the Metropolis algorithm but is much more efficient."
   ]
  },
  {
   "cell_type": "code",
   "execution_count": 16,
   "metadata": {},
   "outputs": [
    {
     "name": "stderr",
     "output_type": "stream",
     "text": [
      "ERROR (pytensor.graph.rewriting.basic): Rewrite failure due to: constant_folding\n",
      "ERROR (pytensor.graph.rewriting.basic): node: DropDims{axis=0}([50])\n",
      "ERROR (pytensor.graph.rewriting.basic): TRACEBACK:\n",
      "ERROR (pytensor.graph.rewriting.basic): Traceback (most recent call last):\n",
      "  File \"C:\\Users\\macie\\anaconda3\\envs\\pymc_env\\Lib\\site-packages\\pytensor\\graph\\rewriting\\basic.py\", line 1922, in process_node\n",
      "    replacements = node_rewriter.transform(fgraph, node)\n",
      "                   ^^^^^^^^^^^^^^^^^^^^^^^^^^^^^^^^^^^^^\n",
      "  File \"C:\\Users\\macie\\anaconda3\\envs\\pymc_env\\Lib\\site-packages\\pytensor\\graph\\rewriting\\basic.py\", line 1082, in transform\n",
      "    return self.fn(fgraph, node)\n",
      "           ^^^^^^^^^^^^^^^^^^^^^\n",
      "  File \"C:\\Users\\macie\\anaconda3\\envs\\pymc_env\\Lib\\site-packages\\pytensor\\tensor\\rewriting\\basic.py\", line 1106, in constant_folding\n",
      "    thunk = node.op.make_thunk(node, storage_map, compute_map, no_recycling=[])\n",
      "            ^^^^^^^^^^^^^^^^^^^^^^^^^^^^^^^^^^^^^^^^^^^^^^^^^^^^^^^^^^^^^^^^^^^\n",
      "  File \"C:\\Users\\macie\\anaconda3\\envs\\pymc_env\\Lib\\site-packages\\pytensor\\link\\c\\op.py\", line 131, in make_thunk\n",
      "    return self.make_c_thunk(node, storage_map, compute_map, no_recycling)\n",
      "           ^^^^^^^^^^^^^^^^^^^^^^^^^^^^^^^^^^^^^^^^^^^^^^^^^^^^^^^^^^^^^^^\n",
      "  File \"C:\\Users\\macie\\anaconda3\\envs\\pymc_env\\Lib\\site-packages\\pytensor\\link\\c\\op.py\", line 96, in make_c_thunk\n",
      "    outputs = cl.make_thunk(\n",
      "              ^^^^^^^^^^^^^^\n",
      "  File \"C:\\Users\\macie\\anaconda3\\envs\\pymc_env\\Lib\\site-packages\\pytensor\\link\\c\\basic.py\", line 1200, in make_thunk\n",
      "    cthunk, module, in_storage, out_storage, error_storage = self.__compile__(\n",
      "                                                             ^^^^^^^^^^^^^^^^^\n",
      "  File \"C:\\Users\\macie\\anaconda3\\envs\\pymc_env\\Lib\\site-packages\\pytensor\\link\\c\\basic.py\", line 1120, in __compile__\n",
      "    thunk, module = self.cthunk_factory(\n",
      "                    ^^^^^^^^^^^^^^^^^^^^\n",
      "  File \"C:\\Users\\macie\\anaconda3\\envs\\pymc_env\\Lib\\site-packages\\pytensor\\link\\c\\basic.py\", line 1644, in cthunk_factory\n",
      "    module = cache.module_from_key(key=key, lnk=self)\n",
      "             ^^^^^^^^^^^^^^^^^^^^^^^^^^^^^^^^^^^^^^^^\n",
      "  File \"C:\\Users\\macie\\anaconda3\\envs\\pymc_env\\Lib\\site-packages\\pytensor\\link\\c\\cmodule.py\", line 1240, in module_from_key\n",
      "    module = lnk.compile_cmodule(location)\n",
      "             ^^^^^^^^^^^^^^^^^^^^^^^^^^^^^\n",
      "  File \"C:\\Users\\macie\\anaconda3\\envs\\pymc_env\\Lib\\site-packages\\pytensor\\link\\c\\basic.py\", line 1543, in compile_cmodule\n",
      "    module = c_compiler.compile_str(\n",
      "             ^^^^^^^^^^^^^^^^^^^^^^^\n",
      "  File \"C:\\Users\\macie\\anaconda3\\envs\\pymc_env\\Lib\\site-packages\\pytensor\\link\\c\\cmodule.py\", line 2649, in compile_str\n",
      "    raise CompileError(\n",
      "pytensor.link.c.exceptions.CompileError: Compilation failed (return status=1):\n",
      "\"C:\\MinGW\\bin\\g++.exe\" -shared -g -O3 -fno-math-errno -Wno-unused-label -Wno-unused-variable -Wno-write-strings -Wno-c++11-narrowing -fno-exceptions -fno-unwind-tables -fno-asynchronous-unwind-tables -DNPY_NO_DEPRECATED_API=NPY_1_7_API_VERSION -m64 -DMS_WIN64 -I\"C:\\Users\\macie\\anaconda3\\envs\\pymc_env\\Lib\\site-packages\\numpy\\core\\include\" -I\"C:\\Users\\macie\\anaconda3\\envs\\pymc_env\\include\" -I\"C:\\Users\\macie\\anaconda3\\envs\\pymc_env\\Lib\\site-packages\\pytensor\\link\\c\\c_code\" -L\"C:\\Users\\macie\\anaconda3\\envs\\pymc_env\\libs\" -L\"C:\\Users\\macie\\anaconda3\\envs\\pymc_env\" -o \"C:\\Users\\macie\\AppData\\Local\\PyTensor\\compiledir_Windows-10-10.0.22621-SP0-Intel64_Family_6_Model_158_Stepping_10_GenuineIntel-3.11.6-64\\tmpg_wiyspr\\mfeba4d434591def33153ec442edc27a735fd9fa46fd5f1fae8efd4f490539b0a.pyd\" \"C:\\Users\\macie\\AppData\\Local\\PyTensor\\compiledir_Windows-10-10.0.22621-SP0-Intel64_Family_6_Model_158_Stepping_10_GenuineIntel-3.11.6-64\\tmpg_wiyspr\\mod.cpp\" \"C:\\Users\\macie\\anaconda3\\envs\\pymc_env\\python311.dll\"\n",
      "cc1plus.exe: sorry, unimplemented: 64-bit mode not compiled in\n",
      "\n",
      "\n",
      "ERROR (pytensor.graph.rewriting.basic): Rewrite failure due to: constant_folding\n",
      "ERROR (pytensor.graph.rewriting.basic): node: DropDims{axis=0}([50])\n",
      "ERROR (pytensor.graph.rewriting.basic): TRACEBACK:\n",
      "ERROR (pytensor.graph.rewriting.basic): Traceback (most recent call last):\n",
      "  File \"C:\\Users\\macie\\anaconda3\\envs\\pymc_env\\Lib\\site-packages\\pytensor\\graph\\rewriting\\basic.py\", line 1922, in process_node\n",
      "    replacements = node_rewriter.transform(fgraph, node)\n",
      "                   ^^^^^^^^^^^^^^^^^^^^^^^^^^^^^^^^^^^^^\n",
      "  File \"C:\\Users\\macie\\anaconda3\\envs\\pymc_env\\Lib\\site-packages\\pytensor\\graph\\rewriting\\basic.py\", line 1082, in transform\n",
      "    return self.fn(fgraph, node)\n",
      "           ^^^^^^^^^^^^^^^^^^^^^\n",
      "  File \"C:\\Users\\macie\\anaconda3\\envs\\pymc_env\\Lib\\site-packages\\pytensor\\tensor\\rewriting\\basic.py\", line 1106, in constant_folding\n",
      "    thunk = node.op.make_thunk(node, storage_map, compute_map, no_recycling=[])\n",
      "            ^^^^^^^^^^^^^^^^^^^^^^^^^^^^^^^^^^^^^^^^^^^^^^^^^^^^^^^^^^^^^^^^^^^\n",
      "  File \"C:\\Users\\macie\\anaconda3\\envs\\pymc_env\\Lib\\site-packages\\pytensor\\link\\c\\op.py\", line 131, in make_thunk\n",
      "    return self.make_c_thunk(node, storage_map, compute_map, no_recycling)\n",
      "           ^^^^^^^^^^^^^^^^^^^^^^^^^^^^^^^^^^^^^^^^^^^^^^^^^^^^^^^^^^^^^^^\n",
      "  File \"C:\\Users\\macie\\anaconda3\\envs\\pymc_env\\Lib\\site-packages\\pytensor\\link\\c\\op.py\", line 96, in make_c_thunk\n",
      "    outputs = cl.make_thunk(\n",
      "              ^^^^^^^^^^^^^^\n",
      "  File \"C:\\Users\\macie\\anaconda3\\envs\\pymc_env\\Lib\\site-packages\\pytensor\\link\\c\\basic.py\", line 1200, in make_thunk\n",
      "    cthunk, module, in_storage, out_storage, error_storage = self.__compile__(\n",
      "                                                             ^^^^^^^^^^^^^^^^^\n",
      "  File \"C:\\Users\\macie\\anaconda3\\envs\\pymc_env\\Lib\\site-packages\\pytensor\\link\\c\\basic.py\", line 1120, in __compile__\n",
      "    thunk, module = self.cthunk_factory(\n",
      "                    ^^^^^^^^^^^^^^^^^^^^\n",
      "  File \"C:\\Users\\macie\\anaconda3\\envs\\pymc_env\\Lib\\site-packages\\pytensor\\link\\c\\basic.py\", line 1644, in cthunk_factory\n",
      "    module = cache.module_from_key(key=key, lnk=self)\n",
      "             ^^^^^^^^^^^^^^^^^^^^^^^^^^^^^^^^^^^^^^^^\n",
      "  File \"C:\\Users\\macie\\anaconda3\\envs\\pymc_env\\Lib\\site-packages\\pytensor\\link\\c\\cmodule.py\", line 1240, in module_from_key\n",
      "    module = lnk.compile_cmodule(location)\n",
      "             ^^^^^^^^^^^^^^^^^^^^^^^^^^^^^\n",
      "  File \"C:\\Users\\macie\\anaconda3\\envs\\pymc_env\\Lib\\site-packages\\pytensor\\link\\c\\basic.py\", line 1543, in compile_cmodule\n",
      "    module = c_compiler.compile_str(\n",
      "             ^^^^^^^^^^^^^^^^^^^^^^^\n",
      "  File \"C:\\Users\\macie\\anaconda3\\envs\\pymc_env\\Lib\\site-packages\\pytensor\\link\\c\\cmodule.py\", line 2649, in compile_str\n",
      "    raise CompileError(\n",
      "pytensor.link.c.exceptions.CompileError: Compilation failed (return status=1):\n",
      "\"C:\\MinGW\\bin\\g++.exe\" -shared -g -O3 -fno-math-errno -Wno-unused-label -Wno-unused-variable -Wno-write-strings -Wno-c++11-narrowing -fno-exceptions -fno-unwind-tables -fno-asynchronous-unwind-tables -DNPY_NO_DEPRECATED_API=NPY_1_7_API_VERSION -m64 -DMS_WIN64 -I\"C:\\Users\\macie\\anaconda3\\envs\\pymc_env\\Lib\\site-packages\\numpy\\core\\include\" -I\"C:\\Users\\macie\\anaconda3\\envs\\pymc_env\\include\" -I\"C:\\Users\\macie\\anaconda3\\envs\\pymc_env\\Lib\\site-packages\\pytensor\\link\\c\\c_code\" -L\"C:\\Users\\macie\\anaconda3\\envs\\pymc_env\\libs\" -L\"C:\\Users\\macie\\anaconda3\\envs\\pymc_env\" -o \"C:\\Users\\macie\\AppData\\Local\\PyTensor\\compiledir_Windows-10-10.0.22621-SP0-Intel64_Family_6_Model_158_Stepping_10_GenuineIntel-3.11.6-64\\tmp7stl17p6\\mfeba4d434591def33153ec442edc27a735fd9fa46fd5f1fae8efd4f490539b0a.pyd\" \"C:\\Users\\macie\\AppData\\Local\\PyTensor\\compiledir_Windows-10-10.0.22621-SP0-Intel64_Family_6_Model_158_Stepping_10_GenuineIntel-3.11.6-64\\tmp7stl17p6\\mod.cpp\" \"C:\\Users\\macie\\anaconda3\\envs\\pymc_env\\python311.dll\"\n",
      "cc1plus.exe: sorry, unimplemented: 64-bit mode not compiled in\n",
      "\n",
      "\n",
      "ERROR (pytensor.graph.rewriting.basic): Rewrite failure due to: constant_folding\n"
     ]
    },
    {
     "name": "stdout",
     "output_type": "stream",
     "text": [
      "\n",
      "You can find the C code in this temporary file: C:\\Users\\macie\\AppData\\Local\\Temp\\pytensor_compilation_error_26yi1iem\n",
      "\n",
      "You can find the C code in this temporary file: C:\\Users\\macie\\AppData\\Local\\Temp\\pytensor_compilation_error_ojyg7q68\n",
      "\n",
      "You can find the C code in this temporary file: C:\\Users\\macie\\AppData\\Local\\Temp\\pytensor_compilation_error_yjwi7ppc\n"
     ]
    },
    {
     "name": "stderr",
     "output_type": "stream",
     "text": [
      "ERROR (pytensor.graph.rewriting.basic): node: DropDims{axis=0}([50])\n",
      "ERROR (pytensor.graph.rewriting.basic): TRACEBACK:\n",
      "ERROR (pytensor.graph.rewriting.basic): Traceback (most recent call last):\n",
      "  File \"C:\\Users\\macie\\anaconda3\\envs\\pymc_env\\Lib\\site-packages\\pytensor\\graph\\rewriting\\basic.py\", line 1922, in process_node\n",
      "    replacements = node_rewriter.transform(fgraph, node)\n",
      "                   ^^^^^^^^^^^^^^^^^^^^^^^^^^^^^^^^^^^^^\n",
      "  File \"C:\\Users\\macie\\anaconda3\\envs\\pymc_env\\Lib\\site-packages\\pytensor\\graph\\rewriting\\basic.py\", line 1082, in transform\n",
      "    return self.fn(fgraph, node)\n",
      "           ^^^^^^^^^^^^^^^^^^^^^\n",
      "  File \"C:\\Users\\macie\\anaconda3\\envs\\pymc_env\\Lib\\site-packages\\pytensor\\tensor\\rewriting\\basic.py\", line 1106, in constant_folding\n",
      "    thunk = node.op.make_thunk(node, storage_map, compute_map, no_recycling=[])\n",
      "            ^^^^^^^^^^^^^^^^^^^^^^^^^^^^^^^^^^^^^^^^^^^^^^^^^^^^^^^^^^^^^^^^^^^\n",
      "  File \"C:\\Users\\macie\\anaconda3\\envs\\pymc_env\\Lib\\site-packages\\pytensor\\link\\c\\op.py\", line 131, in make_thunk\n",
      "    return self.make_c_thunk(node, storage_map, compute_map, no_recycling)\n",
      "           ^^^^^^^^^^^^^^^^^^^^^^^^^^^^^^^^^^^^^^^^^^^^^^^^^^^^^^^^^^^^^^^\n",
      "  File \"C:\\Users\\macie\\anaconda3\\envs\\pymc_env\\Lib\\site-packages\\pytensor\\link\\c\\op.py\", line 96, in make_c_thunk\n",
      "    outputs = cl.make_thunk(\n",
      "              ^^^^^^^^^^^^^^\n",
      "  File \"C:\\Users\\macie\\anaconda3\\envs\\pymc_env\\Lib\\site-packages\\pytensor\\link\\c\\basic.py\", line 1200, in make_thunk\n",
      "    cthunk, module, in_storage, out_storage, error_storage = self.__compile__(\n",
      "                                                             ^^^^^^^^^^^^^^^^^\n",
      "  File \"C:\\Users\\macie\\anaconda3\\envs\\pymc_env\\Lib\\site-packages\\pytensor\\link\\c\\basic.py\", line 1120, in __compile__\n",
      "    thunk, module = self.cthunk_factory(\n",
      "                    ^^^^^^^^^^^^^^^^^^^^\n",
      "  File \"C:\\Users\\macie\\anaconda3\\envs\\pymc_env\\Lib\\site-packages\\pytensor\\link\\c\\basic.py\", line 1644, in cthunk_factory\n",
      "    module = cache.module_from_key(key=key, lnk=self)\n",
      "             ^^^^^^^^^^^^^^^^^^^^^^^^^^^^^^^^^^^^^^^^\n",
      "  File \"C:\\Users\\macie\\anaconda3\\envs\\pymc_env\\Lib\\site-packages\\pytensor\\link\\c\\cmodule.py\", line 1240, in module_from_key\n",
      "    module = lnk.compile_cmodule(location)\n",
      "             ^^^^^^^^^^^^^^^^^^^^^^^^^^^^^\n",
      "  File \"C:\\Users\\macie\\anaconda3\\envs\\pymc_env\\Lib\\site-packages\\pytensor\\link\\c\\basic.py\", line 1543, in compile_cmodule\n",
      "    module = c_compiler.compile_str(\n",
      "             ^^^^^^^^^^^^^^^^^^^^^^^\n",
      "  File \"C:\\Users\\macie\\anaconda3\\envs\\pymc_env\\Lib\\site-packages\\pytensor\\link\\c\\cmodule.py\", line 2649, in compile_str\n",
      "    raise CompileError(\n",
      "pytensor.link.c.exceptions.CompileError: Compilation failed (return status=1):\n",
      "\"C:\\MinGW\\bin\\g++.exe\" -shared -g -O3 -fno-math-errno -Wno-unused-label -Wno-unused-variable -Wno-write-strings -Wno-c++11-narrowing -fno-exceptions -fno-unwind-tables -fno-asynchronous-unwind-tables -DNPY_NO_DEPRECATED_API=NPY_1_7_API_VERSION -m64 -DMS_WIN64 -I\"C:\\Users\\macie\\anaconda3\\envs\\pymc_env\\Lib\\site-packages\\numpy\\core\\include\" -I\"C:\\Users\\macie\\anaconda3\\envs\\pymc_env\\include\" -I\"C:\\Users\\macie\\anaconda3\\envs\\pymc_env\\Lib\\site-packages\\pytensor\\link\\c\\c_code\" -L\"C:\\Users\\macie\\anaconda3\\envs\\pymc_env\\libs\" -L\"C:\\Users\\macie\\anaconda3\\envs\\pymc_env\" -o \"C:\\Users\\macie\\AppData\\Local\\PyTensor\\compiledir_Windows-10-10.0.22621-SP0-Intel64_Family_6_Model_158_Stepping_10_GenuineIntel-3.11.6-64\\tmpnl92uif9\\mfeba4d434591def33153ec442edc27a735fd9fa46fd5f1fae8efd4f490539b0a.pyd\" \"C:\\Users\\macie\\AppData\\Local\\PyTensor\\compiledir_Windows-10-10.0.22621-SP0-Intel64_Family_6_Model_158_Stepping_10_GenuineIntel-3.11.6-64\\tmpnl92uif9\\mod.cpp\" \"C:\\Users\\macie\\anaconda3\\envs\\pymc_env\\python311.dll\"\n",
      "cc1plus.exe: sorry, unimplemented: 64-bit mode not compiled in\n",
      "\n",
      "\n",
      "ERROR (pytensor.graph.rewriting.basic): Rewrite failure due to: constant_folding\n",
      "ERROR (pytensor.graph.rewriting.basic): node: Cast{float64}(0)\n",
      "ERROR (pytensor.graph.rewriting.basic): TRACEBACK:\n",
      "ERROR (pytensor.graph.rewriting.basic): Traceback (most recent call last):\n",
      "  File \"C:\\Users\\macie\\anaconda3\\envs\\pymc_env\\Lib\\site-packages\\pytensor\\graph\\rewriting\\basic.py\", line 1922, in process_node\n",
      "    replacements = node_rewriter.transform(fgraph, node)\n",
      "                   ^^^^^^^^^^^^^^^^^^^^^^^^^^^^^^^^^^^^^\n",
      "  File \"C:\\Users\\macie\\anaconda3\\envs\\pymc_env\\Lib\\site-packages\\pytensor\\graph\\rewriting\\basic.py\", line 1082, in transform\n",
      "    return self.fn(fgraph, node)\n",
      "           ^^^^^^^^^^^^^^^^^^^^^\n",
      "  File \"C:\\Users\\macie\\anaconda3\\envs\\pymc_env\\Lib\\site-packages\\pytensor\\tensor\\rewriting\\basic.py\", line 1106, in constant_folding\n",
      "    thunk = node.op.make_thunk(node, storage_map, compute_map, no_recycling=[])\n",
      "            ^^^^^^^^^^^^^^^^^^^^^^^^^^^^^^^^^^^^^^^^^^^^^^^^^^^^^^^^^^^^^^^^^^^\n",
      "  File \"C:\\Users\\macie\\anaconda3\\envs\\pymc_env\\Lib\\site-packages\\pytensor\\link\\c\\op.py\", line 131, in make_thunk\n",
      "    return self.make_c_thunk(node, storage_map, compute_map, no_recycling)\n",
      "           ^^^^^^^^^^^^^^^^^^^^^^^^^^^^^^^^^^^^^^^^^^^^^^^^^^^^^^^^^^^^^^^\n",
      "  File \"C:\\Users\\macie\\anaconda3\\envs\\pymc_env\\Lib\\site-packages\\pytensor\\link\\c\\op.py\", line 96, in make_c_thunk\n",
      "    outputs = cl.make_thunk(\n",
      "              ^^^^^^^^^^^^^^\n",
      "  File \"C:\\Users\\macie\\anaconda3\\envs\\pymc_env\\Lib\\site-packages\\pytensor\\link\\c\\basic.py\", line 1200, in make_thunk\n",
      "    cthunk, module, in_storage, out_storage, error_storage = self.__compile__(\n",
      "                                                             ^^^^^^^^^^^^^^^^^\n",
      "  File \"C:\\Users\\macie\\anaconda3\\envs\\pymc_env\\Lib\\site-packages\\pytensor\\link\\c\\basic.py\", line 1120, in __compile__\n",
      "    thunk, module = self.cthunk_factory(\n",
      "                    ^^^^^^^^^^^^^^^^^^^^\n",
      "  File \"C:\\Users\\macie\\anaconda3\\envs\\pymc_env\\Lib\\site-packages\\pytensor\\link\\c\\basic.py\", line 1644, in cthunk_factory\n",
      "    module = cache.module_from_key(key=key, lnk=self)\n",
      "             ^^^^^^^^^^^^^^^^^^^^^^^^^^^^^^^^^^^^^^^^\n",
      "  File \"C:\\Users\\macie\\anaconda3\\envs\\pymc_env\\Lib\\site-packages\\pytensor\\link\\c\\cmodule.py\", line 1240, in module_from_key\n",
      "    module = lnk.compile_cmodule(location)\n",
      "             ^^^^^^^^^^^^^^^^^^^^^^^^^^^^^\n",
      "  File \"C:\\Users\\macie\\anaconda3\\envs\\pymc_env\\Lib\\site-packages\\pytensor\\link\\c\\basic.py\", line 1543, in compile_cmodule\n",
      "    module = c_compiler.compile_str(\n",
      "             ^^^^^^^^^^^^^^^^^^^^^^^\n",
      "  File \"C:\\Users\\macie\\anaconda3\\envs\\pymc_env\\Lib\\site-packages\\pytensor\\link\\c\\cmodule.py\", line 2649, in compile_str\n",
      "    raise CompileError(\n",
      "pytensor.link.c.exceptions.CompileError: Compilation failed (return status=1):\n",
      "\"C:\\MinGW\\bin\\g++.exe\" -shared -g -O3 -fno-math-errno -Wno-unused-label -Wno-unused-variable -Wno-write-strings -Wno-c++11-narrowing -fno-exceptions -fno-unwind-tables -fno-asynchronous-unwind-tables -DNPY_NO_DEPRECATED_API=NPY_1_7_API_VERSION -m64 -DMS_WIN64 -I\"C:\\Users\\macie\\anaconda3\\envs\\pymc_env\\Lib\\site-packages\\numpy\\core\\include\" -I\"C:\\Users\\macie\\anaconda3\\envs\\pymc_env\\include\" -I\"C:\\Users\\macie\\anaconda3\\envs\\pymc_env\\Lib\\site-packages\\pytensor\\link\\c\\c_code\" -L\"C:\\Users\\macie\\anaconda3\\envs\\pymc_env\\libs\" -L\"C:\\Users\\macie\\anaconda3\\envs\\pymc_env\" -o \"C:\\Users\\macie\\AppData\\Local\\PyTensor\\compiledir_Windows-10-10.0.22621-SP0-Intel64_Family_6_Model_158_Stepping_10_GenuineIntel-3.11.6-64\\tmp6lei9mne\\maf7dfc2b98019ae231490759913de9c7eae2cf26062201cb60a34079dffa7f98.pyd\" \"C:\\Users\\macie\\AppData\\Local\\PyTensor\\compiledir_Windows-10-10.0.22621-SP0-Intel64_Family_6_Model_158_Stepping_10_GenuineIntel-3.11.6-64\\tmp6lei9mne\\mod.cpp\" \"C:\\Users\\macie\\anaconda3\\envs\\pymc_env\\python311.dll\"\n",
      "cc1plus.exe: sorry, unimplemented: 64-bit mode not compiled in\n",
      "\n",
      "\n",
      "ERROR (pytensor.graph.rewriting.basic): Rewrite failure due to: constant_folding\n",
      "ERROR (pytensor.graph.rewriting.basic): node: Cast{float64}(2)\n",
      "ERROR (pytensor.graph.rewriting.basic): TRACEBACK:\n",
      "ERROR (pytensor.graph.rewriting.basic): Traceback (most recent call last):\n",
      "  File \"C:\\Users\\macie\\anaconda3\\envs\\pymc_env\\Lib\\site-packages\\pytensor\\graph\\rewriting\\basic.py\", line 1922, in process_node\n",
      "    replacements = node_rewriter.transform(fgraph, node)\n",
      "                   ^^^^^^^^^^^^^^^^^^^^^^^^^^^^^^^^^^^^^\n",
      "  File \"C:\\Users\\macie\\anaconda3\\envs\\pymc_env\\Lib\\site-packages\\pytensor\\graph\\rewriting\\basic.py\", line 1082, in transform\n",
      "    return self.fn(fgraph, node)\n",
      "           ^^^^^^^^^^^^^^^^^^^^^\n",
      "  File \"C:\\Users\\macie\\anaconda3\\envs\\pymc_env\\Lib\\site-packages\\pytensor\\tensor\\rewriting\\basic.py\", line 1106, in constant_folding\n",
      "    thunk = node.op.make_thunk(node, storage_map, compute_map, no_recycling=[])\n",
      "            ^^^^^^^^^^^^^^^^^^^^^^^^^^^^^^^^^^^^^^^^^^^^^^^^^^^^^^^^^^^^^^^^^^^\n",
      "  File \"C:\\Users\\macie\\anaconda3\\envs\\pymc_env\\Lib\\site-packages\\pytensor\\link\\c\\op.py\", line 131, in make_thunk\n",
      "    return self.make_c_thunk(node, storage_map, compute_map, no_recycling)\n",
      "           ^^^^^^^^^^^^^^^^^^^^^^^^^^^^^^^^^^^^^^^^^^^^^^^^^^^^^^^^^^^^^^^\n",
      "  File \"C:\\Users\\macie\\anaconda3\\envs\\pymc_env\\Lib\\site-packages\\pytensor\\link\\c\\op.py\", line 96, in make_c_thunk\n",
      "    outputs = cl.make_thunk(\n",
      "              ^^^^^^^^^^^^^^\n",
      "  File \"C:\\Users\\macie\\anaconda3\\envs\\pymc_env\\Lib\\site-packages\\pytensor\\link\\c\\basic.py\", line 1200, in make_thunk\n",
      "    cthunk, module, in_storage, out_storage, error_storage = self.__compile__(\n",
      "                                                             ^^^^^^^^^^^^^^^^^\n",
      "  File \"C:\\Users\\macie\\anaconda3\\envs\\pymc_env\\Lib\\site-packages\\pytensor\\link\\c\\basic.py\", line 1120, in __compile__\n",
      "    thunk, module = self.cthunk_factory(\n",
      "                    ^^^^^^^^^^^^^^^^^^^^\n",
      "  File \"C:\\Users\\macie\\anaconda3\\envs\\pymc_env\\Lib\\site-packages\\pytensor\\link\\c\\basic.py\", line 1644, in cthunk_factory\n",
      "    module = cache.module_from_key(key=key, lnk=self)\n",
      "             ^^^^^^^^^^^^^^^^^^^^^^^^^^^^^^^^^^^^^^^^\n",
      "  File \"C:\\Users\\macie\\anaconda3\\envs\\pymc_env\\Lib\\site-packages\\pytensor\\link\\c\\cmodule.py\", line 1240, in module_from_key\n",
      "    module = lnk.compile_cmodule(location)\n",
      "             ^^^^^^^^^^^^^^^^^^^^^^^^^^^^^\n",
      "  File \"C:\\Users\\macie\\anaconda3\\envs\\pymc_env\\Lib\\site-packages\\pytensor\\link\\c\\basic.py\", line 1543, in compile_cmodule\n",
      "    module = c_compiler.compile_str(\n",
      "             ^^^^^^^^^^^^^^^^^^^^^^^\n",
      "  File \"C:\\Users\\macie\\anaconda3\\envs\\pymc_env\\Lib\\site-packages\\pytensor\\link\\c\\cmodule.py\", line 2649, in compile_str\n",
      "    raise CompileError(\n",
      "pytensor.link.c.exceptions.CompileError: Compilation failed (return status=1):\n",
      "\"C:\\MinGW\\bin\\g++.exe\" -shared -g -O3 -fno-math-errno -Wno-unused-label -Wno-unused-variable -Wno-write-strings -Wno-c++11-narrowing -fno-exceptions -fno-unwind-tables -fno-asynchronous-unwind-tables -DNPY_NO_DEPRECATED_API=NPY_1_7_API_VERSION -m64 -DMS_WIN64 -I\"C:\\Users\\macie\\anaconda3\\envs\\pymc_env\\Lib\\site-packages\\numpy\\core\\include\" -I\"C:\\Users\\macie\\anaconda3\\envs\\pymc_env\\include\" -I\"C:\\Users\\macie\\anaconda3\\envs\\pymc_env\\Lib\\site-packages\\pytensor\\link\\c\\c_code\" -L\"C:\\Users\\macie\\anaconda3\\envs\\pymc_env\\libs\" -L\"C:\\Users\\macie\\anaconda3\\envs\\pymc_env\" -o \"C:\\Users\\macie\\AppData\\Local\\PyTensor\\compiledir_Windows-10-10.0.22621-SP0-Intel64_Family_6_Model_158_Stepping_10_GenuineIntel-3.11.6-64\\tmp544ipeww\\maf7dfc2b98019ae231490759913de9c7eae2cf26062201cb60a34079dffa7f98.pyd\" \"C:\\Users\\macie\\AppData\\Local\\PyTensor\\compiledir_Windows-10-10.0.22621-SP0-Intel64_Family_6_Model_158_Stepping_10_GenuineIntel-3.11.6-64\\tmp544ipeww\\mod.cpp\" \"C:\\Users\\macie\\anaconda3\\envs\\pymc_env\\python311.dll\"\n",
      "cc1plus.exe: sorry, unimplemented: 64-bit mode not compiled in\n",
      "\n",
      "\n",
      "ERROR (pytensor.graph.rewriting.basic): Rewrite failure due to: constant_folding\n"
     ]
    },
    {
     "name": "stdout",
     "output_type": "stream",
     "text": [
      "\n",
      "You can find the C code in this temporary file: C:\\Users\\macie\\AppData\\Local\\Temp\\pytensor_compilation_error_8zwuto8c\n",
      "\n",
      "You can find the C code in this temporary file: C:\\Users\\macie\\AppData\\Local\\Temp\\pytensor_compilation_error_cqx7lg09\n",
      "\n",
      "You can find the C code in this temporary file: C:\\Users\\macie\\AppData\\Local\\Temp\\pytensor_compilation_error_rph_14tb\n"
     ]
    },
    {
     "name": "stderr",
     "output_type": "stream",
     "text": [
      "ERROR (pytensor.graph.rewriting.basic): node: Cast{float64}(0)\n",
      "ERROR (pytensor.graph.rewriting.basic): TRACEBACK:\n",
      "ERROR (pytensor.graph.rewriting.basic): Traceback (most recent call last):\n",
      "  File \"C:\\Users\\macie\\anaconda3\\envs\\pymc_env\\Lib\\site-packages\\pytensor\\graph\\rewriting\\basic.py\", line 1922, in process_node\n",
      "    replacements = node_rewriter.transform(fgraph, node)\n",
      "                   ^^^^^^^^^^^^^^^^^^^^^^^^^^^^^^^^^^^^^\n",
      "  File \"C:\\Users\\macie\\anaconda3\\envs\\pymc_env\\Lib\\site-packages\\pytensor\\graph\\rewriting\\basic.py\", line 1082, in transform\n",
      "    return self.fn(fgraph, node)\n",
      "           ^^^^^^^^^^^^^^^^^^^^^\n",
      "  File \"C:\\Users\\macie\\anaconda3\\envs\\pymc_env\\Lib\\site-packages\\pytensor\\tensor\\rewriting\\basic.py\", line 1106, in constant_folding\n",
      "    thunk = node.op.make_thunk(node, storage_map, compute_map, no_recycling=[])\n",
      "            ^^^^^^^^^^^^^^^^^^^^^^^^^^^^^^^^^^^^^^^^^^^^^^^^^^^^^^^^^^^^^^^^^^^\n",
      "  File \"C:\\Users\\macie\\anaconda3\\envs\\pymc_env\\Lib\\site-packages\\pytensor\\link\\c\\op.py\", line 131, in make_thunk\n",
      "    return self.make_c_thunk(node, storage_map, compute_map, no_recycling)\n",
      "           ^^^^^^^^^^^^^^^^^^^^^^^^^^^^^^^^^^^^^^^^^^^^^^^^^^^^^^^^^^^^^^^\n",
      "  File \"C:\\Users\\macie\\anaconda3\\envs\\pymc_env\\Lib\\site-packages\\pytensor\\link\\c\\op.py\", line 96, in make_c_thunk\n",
      "    outputs = cl.make_thunk(\n",
      "              ^^^^^^^^^^^^^^\n",
      "  File \"C:\\Users\\macie\\anaconda3\\envs\\pymc_env\\Lib\\site-packages\\pytensor\\link\\c\\basic.py\", line 1200, in make_thunk\n",
      "    cthunk, module, in_storage, out_storage, error_storage = self.__compile__(\n",
      "                                                             ^^^^^^^^^^^^^^^^^\n",
      "  File \"C:\\Users\\macie\\anaconda3\\envs\\pymc_env\\Lib\\site-packages\\pytensor\\link\\c\\basic.py\", line 1120, in __compile__\n",
      "    thunk, module = self.cthunk_factory(\n",
      "                    ^^^^^^^^^^^^^^^^^^^^\n",
      "  File \"C:\\Users\\macie\\anaconda3\\envs\\pymc_env\\Lib\\site-packages\\pytensor\\link\\c\\basic.py\", line 1644, in cthunk_factory\n",
      "    module = cache.module_from_key(key=key, lnk=self)\n",
      "             ^^^^^^^^^^^^^^^^^^^^^^^^^^^^^^^^^^^^^^^^\n",
      "  File \"C:\\Users\\macie\\anaconda3\\envs\\pymc_env\\Lib\\site-packages\\pytensor\\link\\c\\cmodule.py\", line 1240, in module_from_key\n",
      "    module = lnk.compile_cmodule(location)\n",
      "             ^^^^^^^^^^^^^^^^^^^^^^^^^^^^^\n",
      "  File \"C:\\Users\\macie\\anaconda3\\envs\\pymc_env\\Lib\\site-packages\\pytensor\\link\\c\\basic.py\", line 1543, in compile_cmodule\n",
      "    module = c_compiler.compile_str(\n",
      "             ^^^^^^^^^^^^^^^^^^^^^^^\n",
      "  File \"C:\\Users\\macie\\anaconda3\\envs\\pymc_env\\Lib\\site-packages\\pytensor\\link\\c\\cmodule.py\", line 2649, in compile_str\n",
      "    raise CompileError(\n",
      "pytensor.link.c.exceptions.CompileError: Compilation failed (return status=1):\n",
      "\"C:\\MinGW\\bin\\g++.exe\" -shared -g -O3 -fno-math-errno -Wno-unused-label -Wno-unused-variable -Wno-write-strings -Wno-c++11-narrowing -fno-exceptions -fno-unwind-tables -fno-asynchronous-unwind-tables -DNPY_NO_DEPRECATED_API=NPY_1_7_API_VERSION -m64 -DMS_WIN64 -I\"C:\\Users\\macie\\anaconda3\\envs\\pymc_env\\Lib\\site-packages\\numpy\\core\\include\" -I\"C:\\Users\\macie\\anaconda3\\envs\\pymc_env\\include\" -I\"C:\\Users\\macie\\anaconda3\\envs\\pymc_env\\Lib\\site-packages\\pytensor\\link\\c\\c_code\" -L\"C:\\Users\\macie\\anaconda3\\envs\\pymc_env\\libs\" -L\"C:\\Users\\macie\\anaconda3\\envs\\pymc_env\" -o \"C:\\Users\\macie\\AppData\\Local\\PyTensor\\compiledir_Windows-10-10.0.22621-SP0-Intel64_Family_6_Model_158_Stepping_10_GenuineIntel-3.11.6-64\\tmp31_3gkl8\\maf7dfc2b98019ae231490759913de9c7eae2cf26062201cb60a34079dffa7f98.pyd\" \"C:\\Users\\macie\\AppData\\Local\\PyTensor\\compiledir_Windows-10-10.0.22621-SP0-Intel64_Family_6_Model_158_Stepping_10_GenuineIntel-3.11.6-64\\tmp31_3gkl8\\mod.cpp\" \"C:\\Users\\macie\\anaconda3\\envs\\pymc_env\\python311.dll\"\n",
      "cc1plus.exe: sorry, unimplemented: 64-bit mode not compiled in\n",
      "\n",
      "\n",
      "ERROR (pytensor.graph.rewriting.basic): Rewrite failure due to: constant_folding\n",
      "ERROR (pytensor.graph.rewriting.basic): node: Cast{float64}(2)\n",
      "ERROR (pytensor.graph.rewriting.basic): TRACEBACK:\n",
      "ERROR (pytensor.graph.rewriting.basic): Traceback (most recent call last):\n",
      "  File \"C:\\Users\\macie\\anaconda3\\envs\\pymc_env\\Lib\\site-packages\\pytensor\\graph\\rewriting\\basic.py\", line 1922, in process_node\n",
      "    replacements = node_rewriter.transform(fgraph, node)\n",
      "                   ^^^^^^^^^^^^^^^^^^^^^^^^^^^^^^^^^^^^^\n",
      "  File \"C:\\Users\\macie\\anaconda3\\envs\\pymc_env\\Lib\\site-packages\\pytensor\\graph\\rewriting\\basic.py\", line 1082, in transform\n",
      "    return self.fn(fgraph, node)\n",
      "           ^^^^^^^^^^^^^^^^^^^^^\n",
      "  File \"C:\\Users\\macie\\anaconda3\\envs\\pymc_env\\Lib\\site-packages\\pytensor\\tensor\\rewriting\\basic.py\", line 1106, in constant_folding\n",
      "    thunk = node.op.make_thunk(node, storage_map, compute_map, no_recycling=[])\n",
      "            ^^^^^^^^^^^^^^^^^^^^^^^^^^^^^^^^^^^^^^^^^^^^^^^^^^^^^^^^^^^^^^^^^^^\n",
      "  File \"C:\\Users\\macie\\anaconda3\\envs\\pymc_env\\Lib\\site-packages\\pytensor\\link\\c\\op.py\", line 131, in make_thunk\n",
      "    return self.make_c_thunk(node, storage_map, compute_map, no_recycling)\n",
      "           ^^^^^^^^^^^^^^^^^^^^^^^^^^^^^^^^^^^^^^^^^^^^^^^^^^^^^^^^^^^^^^^\n",
      "  File \"C:\\Users\\macie\\anaconda3\\envs\\pymc_env\\Lib\\site-packages\\pytensor\\link\\c\\op.py\", line 96, in make_c_thunk\n",
      "    outputs = cl.make_thunk(\n",
      "              ^^^^^^^^^^^^^^\n",
      "  File \"C:\\Users\\macie\\anaconda3\\envs\\pymc_env\\Lib\\site-packages\\pytensor\\link\\c\\basic.py\", line 1200, in make_thunk\n",
      "    cthunk, module, in_storage, out_storage, error_storage = self.__compile__(\n",
      "                                                             ^^^^^^^^^^^^^^^^^\n",
      "  File \"C:\\Users\\macie\\anaconda3\\envs\\pymc_env\\Lib\\site-packages\\pytensor\\link\\c\\basic.py\", line 1120, in __compile__\n",
      "    thunk, module = self.cthunk_factory(\n",
      "                    ^^^^^^^^^^^^^^^^^^^^\n",
      "  File \"C:\\Users\\macie\\anaconda3\\envs\\pymc_env\\Lib\\site-packages\\pytensor\\link\\c\\basic.py\", line 1644, in cthunk_factory\n",
      "    module = cache.module_from_key(key=key, lnk=self)\n",
      "             ^^^^^^^^^^^^^^^^^^^^^^^^^^^^^^^^^^^^^^^^\n",
      "  File \"C:\\Users\\macie\\anaconda3\\envs\\pymc_env\\Lib\\site-packages\\pytensor\\link\\c\\cmodule.py\", line 1240, in module_from_key\n",
      "    module = lnk.compile_cmodule(location)\n",
      "             ^^^^^^^^^^^^^^^^^^^^^^^^^^^^^\n",
      "  File \"C:\\Users\\macie\\anaconda3\\envs\\pymc_env\\Lib\\site-packages\\pytensor\\link\\c\\basic.py\", line 1543, in compile_cmodule\n",
      "    module = c_compiler.compile_str(\n",
      "             ^^^^^^^^^^^^^^^^^^^^^^^\n",
      "  File \"C:\\Users\\macie\\anaconda3\\envs\\pymc_env\\Lib\\site-packages\\pytensor\\link\\c\\cmodule.py\", line 2649, in compile_str\n",
      "    raise CompileError(\n",
      "pytensor.link.c.exceptions.CompileError: Compilation failed (return status=1):\n",
      "\"C:\\MinGW\\bin\\g++.exe\" -shared -g -O3 -fno-math-errno -Wno-unused-label -Wno-unused-variable -Wno-write-strings -Wno-c++11-narrowing -fno-exceptions -fno-unwind-tables -fno-asynchronous-unwind-tables -DNPY_NO_DEPRECATED_API=NPY_1_7_API_VERSION -m64 -DMS_WIN64 -I\"C:\\Users\\macie\\anaconda3\\envs\\pymc_env\\Lib\\site-packages\\numpy\\core\\include\" -I\"C:\\Users\\macie\\anaconda3\\envs\\pymc_env\\include\" -I\"C:\\Users\\macie\\anaconda3\\envs\\pymc_env\\Lib\\site-packages\\pytensor\\link\\c\\c_code\" -L\"C:\\Users\\macie\\anaconda3\\envs\\pymc_env\\libs\" -L\"C:\\Users\\macie\\anaconda3\\envs\\pymc_env\" -o \"C:\\Users\\macie\\AppData\\Local\\PyTensor\\compiledir_Windows-10-10.0.22621-SP0-Intel64_Family_6_Model_158_Stepping_10_GenuineIntel-3.11.6-64\\tmpo29k6513\\maf7dfc2b98019ae231490759913de9c7eae2cf26062201cb60a34079dffa7f98.pyd\" \"C:\\Users\\macie\\AppData\\Local\\PyTensor\\compiledir_Windows-10-10.0.22621-SP0-Intel64_Family_6_Model_158_Stepping_10_GenuineIntel-3.11.6-64\\tmpo29k6513\\mod.cpp\" \"C:\\Users\\macie\\anaconda3\\envs\\pymc_env\\python311.dll\"\n",
      "cc1plus.exe: sorry, unimplemented: 64-bit mode not compiled in\n",
      "\n",
      "\n",
      "ERROR (pytensor.graph.rewriting.basic): Rewrite failure due to: constant_folding\n",
      "ERROR (pytensor.graph.rewriting.basic): node: Cast{float64}(0)\n",
      "ERROR (pytensor.graph.rewriting.basic): TRACEBACK:\n",
      "ERROR (pytensor.graph.rewriting.basic): Traceback (most recent call last):\n",
      "  File \"C:\\Users\\macie\\anaconda3\\envs\\pymc_env\\Lib\\site-packages\\pytensor\\graph\\rewriting\\basic.py\", line 1922, in process_node\n",
      "    replacements = node_rewriter.transform(fgraph, node)\n",
      "                   ^^^^^^^^^^^^^^^^^^^^^^^^^^^^^^^^^^^^^\n",
      "  File \"C:\\Users\\macie\\anaconda3\\envs\\pymc_env\\Lib\\site-packages\\pytensor\\graph\\rewriting\\basic.py\", line 1082, in transform\n",
      "    return self.fn(fgraph, node)\n",
      "           ^^^^^^^^^^^^^^^^^^^^^\n",
      "  File \"C:\\Users\\macie\\anaconda3\\envs\\pymc_env\\Lib\\site-packages\\pytensor\\tensor\\rewriting\\basic.py\", line 1106, in constant_folding\n",
      "    thunk = node.op.make_thunk(node, storage_map, compute_map, no_recycling=[])\n",
      "            ^^^^^^^^^^^^^^^^^^^^^^^^^^^^^^^^^^^^^^^^^^^^^^^^^^^^^^^^^^^^^^^^^^^\n",
      "  File \"C:\\Users\\macie\\anaconda3\\envs\\pymc_env\\Lib\\site-packages\\pytensor\\link\\c\\op.py\", line 131, in make_thunk\n",
      "    return self.make_c_thunk(node, storage_map, compute_map, no_recycling)\n",
      "           ^^^^^^^^^^^^^^^^^^^^^^^^^^^^^^^^^^^^^^^^^^^^^^^^^^^^^^^^^^^^^^^\n",
      "  File \"C:\\Users\\macie\\anaconda3\\envs\\pymc_env\\Lib\\site-packages\\pytensor\\link\\c\\op.py\", line 96, in make_c_thunk\n",
      "    outputs = cl.make_thunk(\n",
      "              ^^^^^^^^^^^^^^\n",
      "  File \"C:\\Users\\macie\\anaconda3\\envs\\pymc_env\\Lib\\site-packages\\pytensor\\link\\c\\basic.py\", line 1200, in make_thunk\n",
      "    cthunk, module, in_storage, out_storage, error_storage = self.__compile__(\n",
      "                                                             ^^^^^^^^^^^^^^^^^\n",
      "  File \"C:\\Users\\macie\\anaconda3\\envs\\pymc_env\\Lib\\site-packages\\pytensor\\link\\c\\basic.py\", line 1120, in __compile__\n",
      "    thunk, module = self.cthunk_factory(\n",
      "                    ^^^^^^^^^^^^^^^^^^^^\n",
      "  File \"C:\\Users\\macie\\anaconda3\\envs\\pymc_env\\Lib\\site-packages\\pytensor\\link\\c\\basic.py\", line 1644, in cthunk_factory\n",
      "    module = cache.module_from_key(key=key, lnk=self)\n",
      "             ^^^^^^^^^^^^^^^^^^^^^^^^^^^^^^^^^^^^^^^^\n",
      "  File \"C:\\Users\\macie\\anaconda3\\envs\\pymc_env\\Lib\\site-packages\\pytensor\\link\\c\\cmodule.py\", line 1240, in module_from_key\n",
      "    module = lnk.compile_cmodule(location)\n",
      "             ^^^^^^^^^^^^^^^^^^^^^^^^^^^^^\n",
      "  File \"C:\\Users\\macie\\anaconda3\\envs\\pymc_env\\Lib\\site-packages\\pytensor\\link\\c\\basic.py\", line 1543, in compile_cmodule\n",
      "    module = c_compiler.compile_str(\n",
      "             ^^^^^^^^^^^^^^^^^^^^^^^\n",
      "  File \"C:\\Users\\macie\\anaconda3\\envs\\pymc_env\\Lib\\site-packages\\pytensor\\link\\c\\cmodule.py\", line 2649, in compile_str\n",
      "    raise CompileError(\n",
      "pytensor.link.c.exceptions.CompileError: Compilation failed (return status=1):\n",
      "\"C:\\MinGW\\bin\\g++.exe\" -shared -g -O3 -fno-math-errno -Wno-unused-label -Wno-unused-variable -Wno-write-strings -Wno-c++11-narrowing -fno-exceptions -fno-unwind-tables -fno-asynchronous-unwind-tables -DNPY_NO_DEPRECATED_API=NPY_1_7_API_VERSION -m64 -DMS_WIN64 -I\"C:\\Users\\macie\\anaconda3\\envs\\pymc_env\\Lib\\site-packages\\numpy\\core\\include\" -I\"C:\\Users\\macie\\anaconda3\\envs\\pymc_env\\include\" -I\"C:\\Users\\macie\\anaconda3\\envs\\pymc_env\\Lib\\site-packages\\pytensor\\link\\c\\c_code\" -L\"C:\\Users\\macie\\anaconda3\\envs\\pymc_env\\libs\" -L\"C:\\Users\\macie\\anaconda3\\envs\\pymc_env\" -o \"C:\\Users\\macie\\AppData\\Local\\PyTensor\\compiledir_Windows-10-10.0.22621-SP0-Intel64_Family_6_Model_158_Stepping_10_GenuineIntel-3.11.6-64\\tmp_2gw1ui4\\maf7dfc2b98019ae231490759913de9c7eae2cf26062201cb60a34079dffa7f98.pyd\" \"C:\\Users\\macie\\AppData\\Local\\PyTensor\\compiledir_Windows-10-10.0.22621-SP0-Intel64_Family_6_Model_158_Stepping_10_GenuineIntel-3.11.6-64\\tmp_2gw1ui4\\mod.cpp\" \"C:\\Users\\macie\\anaconda3\\envs\\pymc_env\\python311.dll\"\n",
      "cc1plus.exe: sorry, unimplemented: 64-bit mode not compiled in\n",
      "\n",
      "\n"
     ]
    },
    {
     "name": "stdout",
     "output_type": "stream",
     "text": [
      "\n",
      "You can find the C code in this temporary file: C:\\Users\\macie\\AppData\\Local\\Temp\\pytensor_compilation_error_0910auz1\n",
      "\n",
      "You can find the C code in this temporary file: C:\\Users\\macie\\AppData\\Local\\Temp\\pytensor_compilation_error_ipp9xul1\n"
     ]
    },
    {
     "name": "stderr",
     "output_type": "stream",
     "text": [
      "ERROR (pytensor.graph.rewriting.basic): Rewrite failure due to: constant_folding\n",
      "ERROR (pytensor.graph.rewriting.basic): node: Cast{float64}(2)\n",
      "ERROR (pytensor.graph.rewriting.basic): TRACEBACK:\n",
      "ERROR (pytensor.graph.rewriting.basic): Traceback (most recent call last):\n",
      "  File \"C:\\Users\\macie\\anaconda3\\envs\\pymc_env\\Lib\\site-packages\\pytensor\\graph\\rewriting\\basic.py\", line 1922, in process_node\n",
      "    replacements = node_rewriter.transform(fgraph, node)\n",
      "                   ^^^^^^^^^^^^^^^^^^^^^^^^^^^^^^^^^^^^^\n",
      "  File \"C:\\Users\\macie\\anaconda3\\envs\\pymc_env\\Lib\\site-packages\\pytensor\\graph\\rewriting\\basic.py\", line 1082, in transform\n",
      "    return self.fn(fgraph, node)\n",
      "           ^^^^^^^^^^^^^^^^^^^^^\n",
      "  File \"C:\\Users\\macie\\anaconda3\\envs\\pymc_env\\Lib\\site-packages\\pytensor\\tensor\\rewriting\\basic.py\", line 1106, in constant_folding\n",
      "    thunk = node.op.make_thunk(node, storage_map, compute_map, no_recycling=[])\n",
      "            ^^^^^^^^^^^^^^^^^^^^^^^^^^^^^^^^^^^^^^^^^^^^^^^^^^^^^^^^^^^^^^^^^^^\n",
      "  File \"C:\\Users\\macie\\anaconda3\\envs\\pymc_env\\Lib\\site-packages\\pytensor\\link\\c\\op.py\", line 131, in make_thunk\n",
      "    return self.make_c_thunk(node, storage_map, compute_map, no_recycling)\n",
      "           ^^^^^^^^^^^^^^^^^^^^^^^^^^^^^^^^^^^^^^^^^^^^^^^^^^^^^^^^^^^^^^^\n",
      "  File \"C:\\Users\\macie\\anaconda3\\envs\\pymc_env\\Lib\\site-packages\\pytensor\\link\\c\\op.py\", line 96, in make_c_thunk\n",
      "    outputs = cl.make_thunk(\n",
      "              ^^^^^^^^^^^^^^\n",
      "  File \"C:\\Users\\macie\\anaconda3\\envs\\pymc_env\\Lib\\site-packages\\pytensor\\link\\c\\basic.py\", line 1200, in make_thunk\n",
      "    cthunk, module, in_storage, out_storage, error_storage = self.__compile__(\n",
      "                                                             ^^^^^^^^^^^^^^^^^\n",
      "  File \"C:\\Users\\macie\\anaconda3\\envs\\pymc_env\\Lib\\site-packages\\pytensor\\link\\c\\basic.py\", line 1120, in __compile__\n",
      "    thunk, module = self.cthunk_factory(\n",
      "                    ^^^^^^^^^^^^^^^^^^^^\n",
      "  File \"C:\\Users\\macie\\anaconda3\\envs\\pymc_env\\Lib\\site-packages\\pytensor\\link\\c\\basic.py\", line 1644, in cthunk_factory\n",
      "    module = cache.module_from_key(key=key, lnk=self)\n",
      "             ^^^^^^^^^^^^^^^^^^^^^^^^^^^^^^^^^^^^^^^^\n",
      "  File \"C:\\Users\\macie\\anaconda3\\envs\\pymc_env\\Lib\\site-packages\\pytensor\\link\\c\\cmodule.py\", line 1240, in module_from_key\n",
      "    module = lnk.compile_cmodule(location)\n",
      "             ^^^^^^^^^^^^^^^^^^^^^^^^^^^^^\n",
      "  File \"C:\\Users\\macie\\anaconda3\\envs\\pymc_env\\Lib\\site-packages\\pytensor\\link\\c\\basic.py\", line 1543, in compile_cmodule\n",
      "    module = c_compiler.compile_str(\n",
      "             ^^^^^^^^^^^^^^^^^^^^^^^\n",
      "  File \"C:\\Users\\macie\\anaconda3\\envs\\pymc_env\\Lib\\site-packages\\pytensor\\link\\c\\cmodule.py\", line 2649, in compile_str\n",
      "    raise CompileError(\n",
      "pytensor.link.c.exceptions.CompileError: Compilation failed (return status=1):\n",
      "\"C:\\MinGW\\bin\\g++.exe\" -shared -g -O3 -fno-math-errno -Wno-unused-label -Wno-unused-variable -Wno-write-strings -Wno-c++11-narrowing -fno-exceptions -fno-unwind-tables -fno-asynchronous-unwind-tables -DNPY_NO_DEPRECATED_API=NPY_1_7_API_VERSION -m64 -DMS_WIN64 -I\"C:\\Users\\macie\\anaconda3\\envs\\pymc_env\\Lib\\site-packages\\numpy\\core\\include\" -I\"C:\\Users\\macie\\anaconda3\\envs\\pymc_env\\include\" -I\"C:\\Users\\macie\\anaconda3\\envs\\pymc_env\\Lib\\site-packages\\pytensor\\link\\c\\c_code\" -L\"C:\\Users\\macie\\anaconda3\\envs\\pymc_env\\libs\" -L\"C:\\Users\\macie\\anaconda3\\envs\\pymc_env\" -o \"C:\\Users\\macie\\AppData\\Local\\PyTensor\\compiledir_Windows-10-10.0.22621-SP0-Intel64_Family_6_Model_158_Stepping_10_GenuineIntel-3.11.6-64\\tmprglvzeox\\maf7dfc2b98019ae231490759913de9c7eae2cf26062201cb60a34079dffa7f98.pyd\" \"C:\\Users\\macie\\AppData\\Local\\PyTensor\\compiledir_Windows-10-10.0.22621-SP0-Intel64_Family_6_Model_158_Stepping_10_GenuineIntel-3.11.6-64\\tmprglvzeox\\mod.cpp\" \"C:\\Users\\macie\\anaconda3\\envs\\pymc_env\\python311.dll\"\n",
      "cc1plus.exe: sorry, unimplemented: 64-bit mode not compiled in\n",
      "\n",
      "\n"
     ]
    },
    {
     "name": "stdout",
     "output_type": "stream",
     "text": [
      "\n",
      "You can find the C code in this temporary file: C:\\Users\\macie\\AppData\\Local\\Temp\\pytensor_compilation_error_9k2xluoy\n",
      "\n",
      "You can find the C code in this temporary file: C:\\Users\\macie\\AppData\\Local\\Temp\\pytensor_compilation_error_x_5wdrj2\n"
     ]
    },
    {
     "ename": "CompileError",
     "evalue": "Compilation failed (return status=1):\n\"C:\\MinGW\\bin\\g++.exe\" -shared -g -Wno-c++11-narrowing -fno-exceptions -fno-unwind-tables -fno-asynchronous-unwind-tables -DNPY_NO_DEPRECATED_API=NPY_1_7_API_VERSION -m64 -DMS_WIN64 -I\"C:\\Users\\macie\\anaconda3\\envs\\pymc_env\\Lib\\site-packages\\numpy\\core\\include\" -I\"C:\\Users\\macie\\anaconda3\\envs\\pymc_env\\include\" -I\"C:\\Users\\macie\\anaconda3\\envs\\pymc_env\\Lib\\site-packages\\pytensor\\link\\c\\c_code\" -L\"C:\\Users\\macie\\anaconda3\\envs\\pymc_env\\libs\" -L\"C:\\Users\\macie\\anaconda3\\envs\\pymc_env\" -o \"C:\\Users\\macie\\AppData\\Local\\PyTensor\\compiledir_Windows-10-10.0.22621-SP0-Intel64_Family_6_Model_158_Stepping_10_GenuineIntel-3.11.6-64\\lazylinker_ext\\lazylinker_ext.pyd\" \"C:\\Users\\macie\\AppData\\Local\\PyTensor\\compiledir_Windows-10-10.0.22621-SP0-Intel64_Family_6_Model_158_Stepping_10_GenuineIntel-3.11.6-64\\lazylinker_ext\\mod.cpp\" \"C:\\Users\\macie\\anaconda3\\envs\\pymc_env\\python311.dll\"\ncc1plus.exe: sorry, unimplemented: 64-bit mode not compiled in\n",
     "output_type": "error",
     "traceback": [
      "\u001b[1;31m---------------------------------------------------------------------------\u001b[0m",
      "\u001b[1;31mImportError\u001b[0m                               Traceback (most recent call last)",
      "File \u001b[1;32m~\\anaconda3\\envs\\pymc_env\\Lib\\site-packages\\pytensor\\link\\c\\lazylinker_c.py:79\u001b[0m\n\u001b[0;32m     78\u001b[0m         \u001b[38;5;28;01mif\u001b[39;00m version \u001b[38;5;241m!=\u001b[39m actual_version:\n\u001b[1;32m---> 79\u001b[0m             \u001b[38;5;28;01mraise\u001b[39;00m \u001b[38;5;167;01mImportError\u001b[39;00m(\n\u001b[0;32m     80\u001b[0m                 \u001b[38;5;124m\"\u001b[39m\u001b[38;5;124mVersion check of the existing lazylinker compiled file.\u001b[39m\u001b[38;5;124m\"\u001b[39m\n\u001b[0;32m     81\u001b[0m                 \u001b[38;5;124mf\u001b[39m\u001b[38;5;124m\"\u001b[39m\u001b[38;5;124m Looking for version \u001b[39m\u001b[38;5;132;01m{\u001b[39;00mversion\u001b[38;5;132;01m}\u001b[39;00m\u001b[38;5;124m, but found \u001b[39m\u001b[38;5;132;01m{\u001b[39;00mactual_version\u001b[38;5;132;01m}\u001b[39;00m\u001b[38;5;124m. \u001b[39m\u001b[38;5;124m\"\u001b[39m\n\u001b[0;32m     82\u001b[0m                 \u001b[38;5;124mf\u001b[39m\u001b[38;5;124m\"\u001b[39m\u001b[38;5;124mExtra debug information: force_compile=\u001b[39m\u001b[38;5;132;01m{\u001b[39;00mforce_compile\u001b[38;5;132;01m}\u001b[39;00m\u001b[38;5;124m, _need_reload=\u001b[39m\u001b[38;5;132;01m{\u001b[39;00m_need_reload\u001b[38;5;132;01m}\u001b[39;00m\u001b[38;5;124m\"\u001b[39m\n\u001b[0;32m     83\u001b[0m             )\n\u001b[0;32m     84\u001b[0m \u001b[38;5;28;01mexcept\u001b[39;00m \u001b[38;5;167;01mImportError\u001b[39;00m:\n",
      "\u001b[1;31mImportError\u001b[0m: Version check of the existing lazylinker compiled file. Looking for version 0.212, but found None. Extra debug information: force_compile=False, _need_reload=True",
      "\nDuring handling of the above exception, another exception occurred:\n",
      "\u001b[1;31mImportError\u001b[0m                               Traceback (most recent call last)",
      "File \u001b[1;32m~\\anaconda3\\envs\\pymc_env\\Lib\\site-packages\\pytensor\\link\\c\\lazylinker_c.py:100\u001b[0m\n\u001b[0;32m     99\u001b[0m     \u001b[38;5;28;01mif\u001b[39;00m version \u001b[38;5;241m!=\u001b[39m actual_version:\n\u001b[1;32m--> 100\u001b[0m         \u001b[38;5;28;01mraise\u001b[39;00m \u001b[38;5;167;01mImportError\u001b[39;00m(\n\u001b[0;32m    101\u001b[0m             \u001b[38;5;124m\"\u001b[39m\u001b[38;5;124mVersion check of the existing lazylinker compiled file.\u001b[39m\u001b[38;5;124m\"\u001b[39m\n\u001b[0;32m    102\u001b[0m             \u001b[38;5;124mf\u001b[39m\u001b[38;5;124m\"\u001b[39m\u001b[38;5;124m Looking for version \u001b[39m\u001b[38;5;132;01m{\u001b[39;00mversion\u001b[38;5;132;01m}\u001b[39;00m\u001b[38;5;124m, but found \u001b[39m\u001b[38;5;132;01m{\u001b[39;00mactual_version\u001b[38;5;132;01m}\u001b[39;00m\u001b[38;5;124m. \u001b[39m\u001b[38;5;124m\"\u001b[39m\n\u001b[0;32m    103\u001b[0m             \u001b[38;5;124mf\u001b[39m\u001b[38;5;124m\"\u001b[39m\u001b[38;5;124mExtra debug information: force_compile=\u001b[39m\u001b[38;5;132;01m{\u001b[39;00mforce_compile\u001b[38;5;132;01m}\u001b[39;00m\u001b[38;5;124m, _need_reload=\u001b[39m\u001b[38;5;132;01m{\u001b[39;00m_need_reload\u001b[38;5;132;01m}\u001b[39;00m\u001b[38;5;124m\"\u001b[39m\n\u001b[0;32m    104\u001b[0m         )\n\u001b[0;32m    105\u001b[0m \u001b[38;5;28;01mexcept\u001b[39;00m \u001b[38;5;167;01mImportError\u001b[39;00m:\n\u001b[0;32m    106\u001b[0m     \u001b[38;5;66;03m# It is useless to try to compile if there isn't any\u001b[39;00m\n\u001b[0;32m    107\u001b[0m     \u001b[38;5;66;03m# compiler!  But we still want to try to load it, in case\u001b[39;00m\n\u001b[0;32m    108\u001b[0m     \u001b[38;5;66;03m# the cache was copied from another computer.\u001b[39;00m\n",
      "\u001b[1;31mImportError\u001b[0m: Version check of the existing lazylinker compiled file. Looking for version 0.212, but found None. Extra debug information: force_compile=False, _need_reload=True",
      "\nDuring handling of the above exception, another exception occurred:\n",
      "\u001b[1;31mCompileError\u001b[0m                              Traceback (most recent call last)",
      "Cell \u001b[1;32mIn[16], line 15\u001b[0m\n\u001b[0;32m     12\u001b[0m likelihood \u001b[38;5;241m=\u001b[39m pm\u001b[38;5;241m.\u001b[39mNormal(\u001b[38;5;124m'\u001b[39m\u001b[38;5;124my\u001b[39m\u001b[38;5;124m'\u001b[39m, mu\u001b[38;5;241m=\u001b[39my_est, sigma\u001b[38;5;241m=\u001b[39msigma, observed\u001b[38;5;241m=\u001b[39my)\n\u001b[0;32m     14\u001b[0m \u001b[38;5;66;03m# inference\u001b[39;00m\n\u001b[1;32m---> 15\u001b[0m sampler \u001b[38;5;241m=\u001b[39m pm\u001b[38;5;241m.\u001b[39mNUTS() \u001b[38;5;66;03m# Hamiltonian MCMC with No U-Turn Sampler \u001b[39;00m\n\u001b[0;32m     16\u001b[0m \u001b[38;5;66;03m# or alternatively\u001b[39;00m\n\u001b[0;32m     17\u001b[0m \u001b[38;5;66;03m# sampler = pm.Metropolis()\u001b[39;00m\n\u001b[0;32m     19\u001b[0m idata \u001b[38;5;241m=\u001b[39m pm\u001b[38;5;241m.\u001b[39msample(num_samples, step\u001b[38;5;241m=\u001b[39msampler, progressbar\u001b[38;5;241m=\u001b[39m\u001b[38;5;28;01mTrue\u001b[39;00m, cores\u001b[38;5;241m=\u001b[39m\u001b[38;5;241m2\u001b[39m, chains\u001b[38;5;241m=\u001b[39m\u001b[38;5;241m2\u001b[39m)\n",
      "File \u001b[1;32m~\\anaconda3\\envs\\pymc_env\\Lib\\site-packages\\pymc\\step_methods\\hmc\\nuts.py:180\u001b[0m, in \u001b[0;36mNUTS.__init__\u001b[1;34m(self, vars, max_treedepth, early_max_treedepth, **kwargs)\u001b[0m\n\u001b[0;32m    122\u001b[0m \u001b[38;5;28;01mdef\u001b[39;00m \u001b[38;5;21m__init__\u001b[39m(\u001b[38;5;28mself\u001b[39m, \u001b[38;5;28mvars\u001b[39m\u001b[38;5;241m=\u001b[39m\u001b[38;5;28;01mNone\u001b[39;00m, max_treedepth\u001b[38;5;241m=\u001b[39m\u001b[38;5;241m10\u001b[39m, early_max_treedepth\u001b[38;5;241m=\u001b[39m\u001b[38;5;241m8\u001b[39m, \u001b[38;5;241m*\u001b[39m\u001b[38;5;241m*\u001b[39mkwargs):\n\u001b[0;32m    123\u001b[0m \u001b[38;5;250m    \u001b[39m\u001b[38;5;124mr\u001b[39m\u001b[38;5;124;03m\"\"\"Set up the No-U-Turn sampler.\u001b[39;00m\n\u001b[0;32m    124\u001b[0m \n\u001b[0;32m    125\u001b[0m \u001b[38;5;124;03m    Parameters\u001b[39;00m\n\u001b[1;32m   (...)\u001b[0m\n\u001b[0;32m    178\u001b[0m \u001b[38;5;124;03m    `pm.sample` to the desired number of tuning steps.\u001b[39;00m\n\u001b[0;32m    179\u001b[0m \u001b[38;5;124;03m    \"\"\"\u001b[39;00m\n\u001b[1;32m--> 180\u001b[0m     \u001b[38;5;28msuper\u001b[39m()\u001b[38;5;241m.\u001b[39m\u001b[38;5;21m__init__\u001b[39m(\u001b[38;5;28mvars\u001b[39m, \u001b[38;5;241m*\u001b[39m\u001b[38;5;241m*\u001b[39mkwargs)\n\u001b[0;32m    182\u001b[0m     \u001b[38;5;28mself\u001b[39m\u001b[38;5;241m.\u001b[39mmax_treedepth \u001b[38;5;241m=\u001b[39m max_treedepth\n\u001b[0;32m    183\u001b[0m     \u001b[38;5;28mself\u001b[39m\u001b[38;5;241m.\u001b[39mearly_max_treedepth \u001b[38;5;241m=\u001b[39m early_max_treedepth\n",
      "File \u001b[1;32m~\\anaconda3\\envs\\pymc_env\\Lib\\site-packages\\pymc\\step_methods\\hmc\\base_hmc.py:109\u001b[0m, in \u001b[0;36mBaseHMC.__init__\u001b[1;34m(self, vars, scaling, step_scale, is_cov, model, blocked, potential, dtype, Emax, target_accept, gamma, k, t0, adapt_step_size, step_rand, **pytensor_kwargs)\u001b[0m\n\u001b[0;32m    107\u001b[0m \u001b[38;5;28;01melse\u001b[39;00m:\n\u001b[0;32m    108\u001b[0m     \u001b[38;5;28mvars\u001b[39m \u001b[38;5;241m=\u001b[39m get_value_vars_from_user_vars(\u001b[38;5;28mvars\u001b[39m, \u001b[38;5;28mself\u001b[39m\u001b[38;5;241m.\u001b[39m_model)\n\u001b[1;32m--> 109\u001b[0m \u001b[38;5;28msuper\u001b[39m()\u001b[38;5;241m.\u001b[39m\u001b[38;5;21m__init__\u001b[39m(\u001b[38;5;28mvars\u001b[39m, blocked\u001b[38;5;241m=\u001b[39mblocked, model\u001b[38;5;241m=\u001b[39m\u001b[38;5;28mself\u001b[39m\u001b[38;5;241m.\u001b[39m_model, dtype\u001b[38;5;241m=\u001b[39mdtype, \u001b[38;5;241m*\u001b[39m\u001b[38;5;241m*\u001b[39mpytensor_kwargs)\n\u001b[0;32m    111\u001b[0m \u001b[38;5;28mself\u001b[39m\u001b[38;5;241m.\u001b[39madapt_step_size \u001b[38;5;241m=\u001b[39m adapt_step_size\n\u001b[0;32m    112\u001b[0m \u001b[38;5;28mself\u001b[39m\u001b[38;5;241m.\u001b[39mEmax \u001b[38;5;241m=\u001b[39m Emax\n",
      "File \u001b[1;32m~\\anaconda3\\envs\\pymc_env\\Lib\\site-packages\\pymc\\step_methods\\arraystep.py:164\u001b[0m, in \u001b[0;36mGradientSharedStep.__init__\u001b[1;34m(self, vars, model, blocked, dtype, logp_dlogp_func, **pytensor_kwargs)\u001b[0m\n\u001b[0;32m    161\u001b[0m model \u001b[38;5;241m=\u001b[39m modelcontext(model)\n\u001b[0;32m    163\u001b[0m \u001b[38;5;28;01mif\u001b[39;00m logp_dlogp_func \u001b[38;5;129;01mis\u001b[39;00m \u001b[38;5;28;01mNone\u001b[39;00m:\n\u001b[1;32m--> 164\u001b[0m     func \u001b[38;5;241m=\u001b[39m model\u001b[38;5;241m.\u001b[39mlogp_dlogp_function(\u001b[38;5;28mvars\u001b[39m, dtype\u001b[38;5;241m=\u001b[39mdtype, \u001b[38;5;241m*\u001b[39m\u001b[38;5;241m*\u001b[39mpytensor_kwargs)\n\u001b[0;32m    165\u001b[0m \u001b[38;5;28;01melse\u001b[39;00m:\n\u001b[0;32m    166\u001b[0m     func \u001b[38;5;241m=\u001b[39m logp_dlogp_func\n",
      "File \u001b[1;32m~\\anaconda3\\envs\\pymc_env\\Lib\\site-packages\\pymc\\model\\core.py:605\u001b[0m, in \u001b[0;36mModel.logp_dlogp_function\u001b[1;34m(self, grad_vars, tempered, **kwargs)\u001b[0m\n\u001b[0;32m    602\u001b[0m     costs \u001b[38;5;241m=\u001b[39m [\u001b[38;5;28mself\u001b[39m\u001b[38;5;241m.\u001b[39mlogp()]\n\u001b[0;32m    604\u001b[0m input_vars \u001b[38;5;241m=\u001b[39m {i \u001b[38;5;28;01mfor\u001b[39;00m i \u001b[38;5;129;01min\u001b[39;00m graph_inputs(costs) \u001b[38;5;28;01mif\u001b[39;00m \u001b[38;5;129;01mnot\u001b[39;00m \u001b[38;5;28misinstance\u001b[39m(i, Constant)}\n\u001b[1;32m--> 605\u001b[0m ip \u001b[38;5;241m=\u001b[39m \u001b[38;5;28mself\u001b[39m\u001b[38;5;241m.\u001b[39minitial_point(\u001b[38;5;241m0\u001b[39m)\n\u001b[0;32m    606\u001b[0m extra_vars_and_values \u001b[38;5;241m=\u001b[39m {\n\u001b[0;32m    607\u001b[0m     var: ip[var\u001b[38;5;241m.\u001b[39mname]\n\u001b[0;32m    608\u001b[0m     \u001b[38;5;28;01mfor\u001b[39;00m var \u001b[38;5;129;01min\u001b[39;00m \u001b[38;5;28mself\u001b[39m\u001b[38;5;241m.\u001b[39mvalue_vars\n\u001b[0;32m    609\u001b[0m     \u001b[38;5;28;01mif\u001b[39;00m var \u001b[38;5;129;01min\u001b[39;00m input_vars \u001b[38;5;129;01mand\u001b[39;00m var \u001b[38;5;129;01mnot\u001b[39;00m \u001b[38;5;129;01min\u001b[39;00m grad_vars\n\u001b[0;32m    610\u001b[0m }\n\u001b[0;32m    611\u001b[0m \u001b[38;5;28;01mreturn\u001b[39;00m ValueGradFunction(costs, grad_vars, extra_vars_and_values, \u001b[38;5;241m*\u001b[39m\u001b[38;5;241m*\u001b[39mkwargs)\n",
      "File \u001b[1;32m~\\anaconda3\\envs\\pymc_env\\Lib\\site-packages\\pymc\\model\\core.py:1090\u001b[0m, in \u001b[0;36mModel.initial_point\u001b[1;34m(self, random_seed)\u001b[0m\n\u001b[0;32m   1077\u001b[0m \u001b[38;5;28;01mdef\u001b[39;00m \u001b[38;5;21minitial_point\u001b[39m(\u001b[38;5;28mself\u001b[39m, random_seed: SeedSequenceSeed \u001b[38;5;241m=\u001b[39m \u001b[38;5;28;01mNone\u001b[39;00m) \u001b[38;5;241m-\u001b[39m\u001b[38;5;241m>\u001b[39m Dict[\u001b[38;5;28mstr\u001b[39m, np\u001b[38;5;241m.\u001b[39mndarray]:\n\u001b[0;32m   1078\u001b[0m \u001b[38;5;250m    \u001b[39m\u001b[38;5;124;03m\"\"\"Computes the initial point of the model.\u001b[39;00m\n\u001b[0;32m   1079\u001b[0m \n\u001b[0;32m   1080\u001b[0m \u001b[38;5;124;03m    Parameters\u001b[39;00m\n\u001b[1;32m   (...)\u001b[0m\n\u001b[0;32m   1088\u001b[0m \u001b[38;5;124;03m        Maps names of transformed variables to numeric initial values in the transformed space.\u001b[39;00m\n\u001b[0;32m   1089\u001b[0m \u001b[38;5;124;03m    \"\"\"\u001b[39;00m\n\u001b[1;32m-> 1090\u001b[0m     fn \u001b[38;5;241m=\u001b[39m make_initial_point_fn(model\u001b[38;5;241m=\u001b[39m\u001b[38;5;28mself\u001b[39m, return_transformed\u001b[38;5;241m=\u001b[39m\u001b[38;5;28;01mTrue\u001b[39;00m)\n\u001b[0;32m   1091\u001b[0m     \u001b[38;5;28;01mreturn\u001b[39;00m Point(fn(random_seed), model\u001b[38;5;241m=\u001b[39m\u001b[38;5;28mself\u001b[39m)\n",
      "File \u001b[1;32m~\\anaconda3\\envs\\pymc_env\\Lib\\site-packages\\pymc\\initial_point.py:152\u001b[0m, in \u001b[0;36mmake_initial_point_fn\u001b[1;34m(model, overrides, jitter_rvs, default_strategy, return_transformed)\u001b[0m\n\u001b[0;32m    149\u001b[0m \u001b[38;5;66;03m# Replace original rng shared variables so that we don't mess with them\u001b[39;00m\n\u001b[0;32m    150\u001b[0m \u001b[38;5;66;03m# when calling the final seeded function\u001b[39;00m\n\u001b[0;32m    151\u001b[0m initial_values \u001b[38;5;241m=\u001b[39m replace_rng_nodes(initial_values)\n\u001b[1;32m--> 152\u001b[0m func \u001b[38;5;241m=\u001b[39m compile_pymc(inputs\u001b[38;5;241m=\u001b[39m[], outputs\u001b[38;5;241m=\u001b[39minitial_values, mode\u001b[38;5;241m=\u001b[39mpytensor\u001b[38;5;241m.\u001b[39mcompile\u001b[38;5;241m.\u001b[39mmode\u001b[38;5;241m.\u001b[39mFAST_COMPILE)\n\u001b[0;32m    154\u001b[0m varnames \u001b[38;5;241m=\u001b[39m []\n\u001b[0;32m    155\u001b[0m \u001b[38;5;28;01mfor\u001b[39;00m var \u001b[38;5;129;01min\u001b[39;00m model\u001b[38;5;241m.\u001b[39mfree_RVs:\n",
      "File \u001b[1;32m~\\anaconda3\\envs\\pymc_env\\Lib\\site-packages\\pymc\\pytensorf.py:1195\u001b[0m, in \u001b[0;36mcompile_pymc\u001b[1;34m(inputs, outputs, random_seed, mode, **kwargs)\u001b[0m\n\u001b[0;32m   1193\u001b[0m opt_qry \u001b[38;5;241m=\u001b[39m mode\u001b[38;5;241m.\u001b[39mprovided_optimizer\u001b[38;5;241m.\u001b[39mincluding(\u001b[38;5;124m\"\u001b[39m\u001b[38;5;124mrandom_make_inplace\u001b[39m\u001b[38;5;124m\"\u001b[39m, check_parameter_opt)\n\u001b[0;32m   1194\u001b[0m mode \u001b[38;5;241m=\u001b[39m Mode(linker\u001b[38;5;241m=\u001b[39mmode\u001b[38;5;241m.\u001b[39mlinker, optimizer\u001b[38;5;241m=\u001b[39mopt_qry)\n\u001b[1;32m-> 1195\u001b[0m pytensor_function \u001b[38;5;241m=\u001b[39m pytensor\u001b[38;5;241m.\u001b[39mfunction(\n\u001b[0;32m   1196\u001b[0m     inputs,\n\u001b[0;32m   1197\u001b[0m     outputs,\n\u001b[0;32m   1198\u001b[0m     updates\u001b[38;5;241m=\u001b[39m{\u001b[38;5;241m*\u001b[39m\u001b[38;5;241m*\u001b[39mrng_updates, \u001b[38;5;241m*\u001b[39m\u001b[38;5;241m*\u001b[39mkwargs\u001b[38;5;241m.\u001b[39mpop(\u001b[38;5;124m\"\u001b[39m\u001b[38;5;124mupdates\u001b[39m\u001b[38;5;124m\"\u001b[39m, {})},\n\u001b[0;32m   1199\u001b[0m     mode\u001b[38;5;241m=\u001b[39mmode,\n\u001b[0;32m   1200\u001b[0m     \u001b[38;5;241m*\u001b[39m\u001b[38;5;241m*\u001b[39mkwargs,\n\u001b[0;32m   1201\u001b[0m )\n\u001b[0;32m   1202\u001b[0m \u001b[38;5;28;01mreturn\u001b[39;00m pytensor_function\n",
      "File \u001b[1;32m~\\anaconda3\\envs\\pymc_env\\Lib\\site-packages\\pytensor\\compile\\function\\__init__.py:315\u001b[0m, in \u001b[0;36mfunction\u001b[1;34m(inputs, outputs, mode, updates, givens, no_default_updates, accept_inplace, name, rebuild_strict, allow_input_downcast, profile, on_unused_input)\u001b[0m\n\u001b[0;32m    309\u001b[0m     fn \u001b[38;5;241m=\u001b[39m orig_function(\n\u001b[0;32m    310\u001b[0m         inputs, outputs, mode\u001b[38;5;241m=\u001b[39mmode, accept_inplace\u001b[38;5;241m=\u001b[39maccept_inplace, name\u001b[38;5;241m=\u001b[39mname\n\u001b[0;32m    311\u001b[0m     )\n\u001b[0;32m    312\u001b[0m \u001b[38;5;28;01melse\u001b[39;00m:\n\u001b[0;32m    313\u001b[0m     \u001b[38;5;66;03m# note: pfunc will also call orig_function -- orig_function is\u001b[39;00m\n\u001b[0;32m    314\u001b[0m     \u001b[38;5;66;03m#      a choke point that all compilation must pass through\u001b[39;00m\n\u001b[1;32m--> 315\u001b[0m     fn \u001b[38;5;241m=\u001b[39m pfunc(\n\u001b[0;32m    316\u001b[0m         params\u001b[38;5;241m=\u001b[39minputs,\n\u001b[0;32m    317\u001b[0m         outputs\u001b[38;5;241m=\u001b[39moutputs,\n\u001b[0;32m    318\u001b[0m         mode\u001b[38;5;241m=\u001b[39mmode,\n\u001b[0;32m    319\u001b[0m         updates\u001b[38;5;241m=\u001b[39mupdates,\n\u001b[0;32m    320\u001b[0m         givens\u001b[38;5;241m=\u001b[39mgivens,\n\u001b[0;32m    321\u001b[0m         no_default_updates\u001b[38;5;241m=\u001b[39mno_default_updates,\n\u001b[0;32m    322\u001b[0m         accept_inplace\u001b[38;5;241m=\u001b[39maccept_inplace,\n\u001b[0;32m    323\u001b[0m         name\u001b[38;5;241m=\u001b[39mname,\n\u001b[0;32m    324\u001b[0m         rebuild_strict\u001b[38;5;241m=\u001b[39mrebuild_strict,\n\u001b[0;32m    325\u001b[0m         allow_input_downcast\u001b[38;5;241m=\u001b[39mallow_input_downcast,\n\u001b[0;32m    326\u001b[0m         on_unused_input\u001b[38;5;241m=\u001b[39mon_unused_input,\n\u001b[0;32m    327\u001b[0m         profile\u001b[38;5;241m=\u001b[39mprofile,\n\u001b[0;32m    328\u001b[0m         output_keys\u001b[38;5;241m=\u001b[39moutput_keys,\n\u001b[0;32m    329\u001b[0m     )\n\u001b[0;32m    330\u001b[0m \u001b[38;5;28;01mreturn\u001b[39;00m fn\n",
      "File \u001b[1;32m~\\anaconda3\\envs\\pymc_env\\Lib\\site-packages\\pytensor\\compile\\function\\pfunc.py:468\u001b[0m, in \u001b[0;36mpfunc\u001b[1;34m(params, outputs, mode, updates, givens, no_default_updates, accept_inplace, name, rebuild_strict, allow_input_downcast, profile, on_unused_input, output_keys, fgraph)\u001b[0m\n\u001b[0;32m    454\u001b[0m     profile \u001b[38;5;241m=\u001b[39m ProfileStats(message\u001b[38;5;241m=\u001b[39mprofile)\n\u001b[0;32m    456\u001b[0m inputs, cloned_outputs \u001b[38;5;241m=\u001b[39m construct_pfunc_ins_and_outs(\n\u001b[0;32m    457\u001b[0m     params,\n\u001b[0;32m    458\u001b[0m     outputs,\n\u001b[1;32m   (...)\u001b[0m\n\u001b[0;32m    465\u001b[0m     fgraph\u001b[38;5;241m=\u001b[39mfgraph,\n\u001b[0;32m    466\u001b[0m )\n\u001b[1;32m--> 468\u001b[0m \u001b[38;5;28;01mreturn\u001b[39;00m orig_function(\n\u001b[0;32m    469\u001b[0m     inputs,\n\u001b[0;32m    470\u001b[0m     cloned_outputs,\n\u001b[0;32m    471\u001b[0m     mode,\n\u001b[0;32m    472\u001b[0m     accept_inplace\u001b[38;5;241m=\u001b[39maccept_inplace,\n\u001b[0;32m    473\u001b[0m     name\u001b[38;5;241m=\u001b[39mname,\n\u001b[0;32m    474\u001b[0m     profile\u001b[38;5;241m=\u001b[39mprofile,\n\u001b[0;32m    475\u001b[0m     on_unused_input\u001b[38;5;241m=\u001b[39mon_unused_input,\n\u001b[0;32m    476\u001b[0m     output_keys\u001b[38;5;241m=\u001b[39moutput_keys,\n\u001b[0;32m    477\u001b[0m     fgraph\u001b[38;5;241m=\u001b[39mfgraph,\n\u001b[0;32m    478\u001b[0m )\n",
      "File \u001b[1;32m~\\anaconda3\\envs\\pymc_env\\Lib\\site-packages\\pytensor\\compile\\function\\types.py:1756\u001b[0m, in \u001b[0;36morig_function\u001b[1;34m(inputs, outputs, mode, accept_inplace, name, profile, on_unused_input, output_keys, fgraph)\u001b[0m\n\u001b[0;32m   1744\u001b[0m     m \u001b[38;5;241m=\u001b[39m Maker(\n\u001b[0;32m   1745\u001b[0m         inputs,\n\u001b[0;32m   1746\u001b[0m         outputs,\n\u001b[1;32m   (...)\u001b[0m\n\u001b[0;32m   1753\u001b[0m         fgraph\u001b[38;5;241m=\u001b[39mfgraph,\n\u001b[0;32m   1754\u001b[0m     )\n\u001b[0;32m   1755\u001b[0m     \u001b[38;5;28;01mwith\u001b[39;00m config\u001b[38;5;241m.\u001b[39mchange_flags(compute_test_value\u001b[38;5;241m=\u001b[39m\u001b[38;5;124m\"\u001b[39m\u001b[38;5;124moff\u001b[39m\u001b[38;5;124m\"\u001b[39m):\n\u001b[1;32m-> 1756\u001b[0m         fn \u001b[38;5;241m=\u001b[39m m\u001b[38;5;241m.\u001b[39mcreate(defaults)\n\u001b[0;32m   1757\u001b[0m \u001b[38;5;28;01mfinally\u001b[39;00m:\n\u001b[0;32m   1758\u001b[0m     t2 \u001b[38;5;241m=\u001b[39m time\u001b[38;5;241m.\u001b[39mperf_counter()\n",
      "File \u001b[1;32m~\\anaconda3\\envs\\pymc_env\\Lib\\site-packages\\pytensor\\compile\\function\\types.py:1649\u001b[0m, in \u001b[0;36mFunctionMaker.create\u001b[1;34m(self, input_storage, storage_map)\u001b[0m\n\u001b[0;32m   1646\u001b[0m start_import_time \u001b[38;5;241m=\u001b[39m pytensor\u001b[38;5;241m.\u001b[39mlink\u001b[38;5;241m.\u001b[39mc\u001b[38;5;241m.\u001b[39mcmodule\u001b[38;5;241m.\u001b[39mimport_time\n\u001b[0;32m   1648\u001b[0m \u001b[38;5;28;01mwith\u001b[39;00m config\u001b[38;5;241m.\u001b[39mchange_flags(traceback__limit\u001b[38;5;241m=\u001b[39mconfig\u001b[38;5;241m.\u001b[39mtraceback__compile_limit):\n\u001b[1;32m-> 1649\u001b[0m     _fn, _i, _o \u001b[38;5;241m=\u001b[39m \u001b[38;5;28mself\u001b[39m\u001b[38;5;241m.\u001b[39mlinker\u001b[38;5;241m.\u001b[39mmake_thunk(\n\u001b[0;32m   1650\u001b[0m         input_storage\u001b[38;5;241m=\u001b[39minput_storage_lists, storage_map\u001b[38;5;241m=\u001b[39mstorage_map\n\u001b[0;32m   1651\u001b[0m     )\n\u001b[0;32m   1653\u001b[0m end_linker \u001b[38;5;241m=\u001b[39m time\u001b[38;5;241m.\u001b[39mperf_counter()\n\u001b[0;32m   1655\u001b[0m linker_time \u001b[38;5;241m=\u001b[39m end_linker \u001b[38;5;241m-\u001b[39m start_linker\n",
      "File \u001b[1;32m~\\anaconda3\\envs\\pymc_env\\Lib\\site-packages\\pytensor\\link\\basic.py:254\u001b[0m, in \u001b[0;36mLocalLinker.make_thunk\u001b[1;34m(self, input_storage, output_storage, storage_map, **kwargs)\u001b[0m\n\u001b[0;32m    247\u001b[0m \u001b[38;5;28;01mdef\u001b[39;00m \u001b[38;5;21mmake_thunk\u001b[39m(\n\u001b[0;32m    248\u001b[0m     \u001b[38;5;28mself\u001b[39m,\n\u001b[0;32m    249\u001b[0m     input_storage: Optional[\u001b[38;5;124m\"\u001b[39m\u001b[38;5;124mInputStorageType\u001b[39m\u001b[38;5;124m\"\u001b[39m] \u001b[38;5;241m=\u001b[39m \u001b[38;5;28;01mNone\u001b[39;00m,\n\u001b[1;32m   (...)\u001b[0m\n\u001b[0;32m    252\u001b[0m     \u001b[38;5;241m*\u001b[39m\u001b[38;5;241m*\u001b[39mkwargs,\n\u001b[0;32m    253\u001b[0m ) \u001b[38;5;241m-\u001b[39m\u001b[38;5;241m>\u001b[39m Tuple[\u001b[38;5;124m\"\u001b[39m\u001b[38;5;124mBasicThunkType\u001b[39m\u001b[38;5;124m\"\u001b[39m, \u001b[38;5;124m\"\u001b[39m\u001b[38;5;124mInputStorageType\u001b[39m\u001b[38;5;124m\"\u001b[39m, \u001b[38;5;124m\"\u001b[39m\u001b[38;5;124mOutputStorageType\u001b[39m\u001b[38;5;124m\"\u001b[39m]:\n\u001b[1;32m--> 254\u001b[0m     \u001b[38;5;28;01mreturn\u001b[39;00m \u001b[38;5;28mself\u001b[39m\u001b[38;5;241m.\u001b[39mmake_all(\n\u001b[0;32m    255\u001b[0m         input_storage\u001b[38;5;241m=\u001b[39minput_storage,\n\u001b[0;32m    256\u001b[0m         output_storage\u001b[38;5;241m=\u001b[39moutput_storage,\n\u001b[0;32m    257\u001b[0m         storage_map\u001b[38;5;241m=\u001b[39mstorage_map,\n\u001b[0;32m    258\u001b[0m     )[:\u001b[38;5;241m3\u001b[39m]\n",
      "File \u001b[1;32m~\\anaconda3\\envs\\pymc_env\\Lib\\site-packages\\pytensor\\link\\vm.py:1297\u001b[0m, in \u001b[0;36mVMLinker.make_all\u001b[1;34m(self, profiler, input_storage, output_storage, storage_map)\u001b[0m\n\u001b[0;32m   1294\u001b[0m \u001b[38;5;28;01melse\u001b[39;00m:\n\u001b[0;32m   1295\u001b[0m     post_thunk_clear \u001b[38;5;241m=\u001b[39m \u001b[38;5;28;01mNone\u001b[39;00m\n\u001b[1;32m-> 1297\u001b[0m vm \u001b[38;5;241m=\u001b[39m \u001b[38;5;28mself\u001b[39m\u001b[38;5;241m.\u001b[39mmake_vm(\n\u001b[0;32m   1298\u001b[0m     order,\n\u001b[0;32m   1299\u001b[0m     thunks,\n\u001b[0;32m   1300\u001b[0m     input_storage,\n\u001b[0;32m   1301\u001b[0m     output_storage,\n\u001b[0;32m   1302\u001b[0m     storage_map,\n\u001b[0;32m   1303\u001b[0m     post_thunk_clear,\n\u001b[0;32m   1304\u001b[0m     computed,\n\u001b[0;32m   1305\u001b[0m     compute_map,\n\u001b[0;32m   1306\u001b[0m     \u001b[38;5;28mself\u001b[39m\u001b[38;5;241m.\u001b[39mupdated_vars,\n\u001b[0;32m   1307\u001b[0m )\n\u001b[0;32m   1309\u001b[0m vm\u001b[38;5;241m.\u001b[39mstorage_map \u001b[38;5;241m=\u001b[39m storage_map\n\u001b[0;32m   1310\u001b[0m vm\u001b[38;5;241m.\u001b[39mcompute_map \u001b[38;5;241m=\u001b[39m compute_map\n",
      "File \u001b[1;32m~\\anaconda3\\envs\\pymc_env\\Lib\\site-packages\\pytensor\\link\\vm.py:1020\u001b[0m, in \u001b[0;36mVMLinker.make_vm\u001b[1;34m(self, nodes, thunks, input_storage, output_storage, storage_map, post_thunk_clear, computed, compute_map, updated_vars)\u001b[0m\n\u001b[0;32m   1017\u001b[0m pre_call_clear \u001b[38;5;241m=\u001b[39m [storage_map[v] \u001b[38;5;28;01mfor\u001b[39;00m v \u001b[38;5;129;01min\u001b[39;00m \u001b[38;5;28mself\u001b[39m\u001b[38;5;241m.\u001b[39mno_recycling]\n\u001b[0;32m   1019\u001b[0m \u001b[38;5;28;01mtry\u001b[39;00m:\n\u001b[1;32m-> 1020\u001b[0m     \u001b[38;5;28;01mfrom\u001b[39;00m \u001b[38;5;21;01mpytensor\u001b[39;00m\u001b[38;5;21;01m.\u001b[39;00m\u001b[38;5;21;01mlink\u001b[39;00m\u001b[38;5;21;01m.\u001b[39;00m\u001b[38;5;21;01mc\u001b[39;00m\u001b[38;5;21;01m.\u001b[39;00m\u001b[38;5;21;01mcvm\u001b[39;00m \u001b[38;5;28;01mimport\u001b[39;00m CVM\n\u001b[0;32m   1021\u001b[0m \u001b[38;5;28;01mexcept\u001b[39;00m (MissingGXX, \u001b[38;5;167;01mImportError\u001b[39;00m):\n\u001b[0;32m   1022\u001b[0m     CVM \u001b[38;5;241m=\u001b[39m \u001b[38;5;28;01mNone\u001b[39;00m\n",
      "File \u001b[1;32m~\\anaconda3\\envs\\pymc_env\\Lib\\site-packages\\pytensor\\link\\c\\cvm.py:13\u001b[0m\n\u001b[0;32m      9\u001b[0m \u001b[38;5;28;01mif\u001b[39;00m \u001b[38;5;129;01mnot\u001b[39;00m config\u001b[38;5;241m.\u001b[39mcxx:\n\u001b[0;32m     10\u001b[0m     \u001b[38;5;28;01mraise\u001b[39;00m MissingGXX(\n\u001b[0;32m     11\u001b[0m         \u001b[38;5;124m\"\u001b[39m\u001b[38;5;124mlazylinker will not be imported if pytensor.config.cxx is not set.\u001b[39m\u001b[38;5;124m\"\u001b[39m\n\u001b[0;32m     12\u001b[0m     )\n\u001b[1;32m---> 13\u001b[0m \u001b[38;5;28;01mfrom\u001b[39;00m \u001b[38;5;21;01mpytensor\u001b[39;00m\u001b[38;5;21;01m.\u001b[39;00m\u001b[38;5;21;01mlink\u001b[39;00m\u001b[38;5;21;01m.\u001b[39;00m\u001b[38;5;21;01mc\u001b[39;00m\u001b[38;5;21;01m.\u001b[39;00m\u001b[38;5;21;01mlazylinker_c\u001b[39;00m \u001b[38;5;28;01mimport\u001b[39;00m CLazyLinker\n\u001b[0;32m     15\u001b[0m \u001b[38;5;28;01mclass\u001b[39;00m \u001b[38;5;21;01mCVM\u001b[39;00m(CLazyLinker, VM):\n\u001b[0;32m     16\u001b[0m     \u001b[38;5;28;01mdef\u001b[39;00m \u001b[38;5;21m__init__\u001b[39m(\u001b[38;5;28mself\u001b[39m, fgraph, \u001b[38;5;241m*\u001b[39margs, \u001b[38;5;241m*\u001b[39m\u001b[38;5;241m*\u001b[39mkwargs):\n",
      "File \u001b[1;32m~\\anaconda3\\envs\\pymc_env\\Lib\\site-packages\\pytensor\\link\\c\\lazylinker_c.py:143\u001b[0m\n\u001b[0;32m    140\u001b[0m         \u001b[38;5;28;01massert\u001b[39;00m os\u001b[38;5;241m.\u001b[39mpath\u001b[38;5;241m.\u001b[39mexists(loc)\n\u001b[0;32m    142\u001b[0m args \u001b[38;5;241m=\u001b[39m GCC_compiler\u001b[38;5;241m.\u001b[39mcompile_args()\n\u001b[1;32m--> 143\u001b[0m GCC_compiler\u001b[38;5;241m.\u001b[39mcompile_str(dirname, code, location\u001b[38;5;241m=\u001b[39mloc, preargs\u001b[38;5;241m=\u001b[39margs)\n\u001b[0;32m    144\u001b[0m \u001b[38;5;66;03m# Save version into the __init__.py file.\u001b[39;00m\n\u001b[0;32m    145\u001b[0m init_py \u001b[38;5;241m=\u001b[39m os\u001b[38;5;241m.\u001b[39mpath\u001b[38;5;241m.\u001b[39mjoin(loc, \u001b[38;5;124m\"\u001b[39m\u001b[38;5;124m__init__.py\u001b[39m\u001b[38;5;124m\"\u001b[39m)\n",
      "File \u001b[1;32m~\\anaconda3\\envs\\pymc_env\\Lib\\site-packages\\pytensor\\link\\c\\cmodule.py:2649\u001b[0m, in \u001b[0;36mGCC_compiler.compile_str\u001b[1;34m(module_name, src_code, location, include_dirs, lib_dirs, libs, preargs, py_module, hide_symbols)\u001b[0m\n\u001b[0;32m   2641\u001b[0m                 \u001b[38;5;28mprint\u001b[39m(\n\u001b[0;32m   2642\u001b[0m                     \u001b[38;5;124m\"\u001b[39m\u001b[38;5;124mCheck if package python-dev or python-devel is installed.\u001b[39m\u001b[38;5;124m\"\u001b[39m\n\u001b[0;32m   2643\u001b[0m                 )\n\u001b[0;32m   2645\u001b[0m     \u001b[38;5;66;03m# We replace '\\n' by '. ' in the error message because when Python\u001b[39;00m\n\u001b[0;32m   2646\u001b[0m     \u001b[38;5;66;03m# prints the exception, having '\\n' in the text makes it more\u001b[39;00m\n\u001b[0;32m   2647\u001b[0m     \u001b[38;5;66;03m# difficult to read.\u001b[39;00m\n\u001b[0;32m   2648\u001b[0m     \u001b[38;5;66;03m# compile_stderr = compile_stderr.replace(\"\\n\", \". \")\u001b[39;00m\n\u001b[1;32m-> 2649\u001b[0m     \u001b[38;5;28;01mraise\u001b[39;00m CompileError(\n\u001b[0;32m   2650\u001b[0m         \u001b[38;5;124mf\u001b[39m\u001b[38;5;124m\"\u001b[39m\u001b[38;5;124mCompilation failed (return status=\u001b[39m\u001b[38;5;132;01m{\u001b[39;00mstatus\u001b[38;5;132;01m}\u001b[39;00m\u001b[38;5;124m):\u001b[39m\u001b[38;5;130;01m\\n\u001b[39;00m\u001b[38;5;132;01m{\u001b[39;00m\u001b[38;5;124m'\u001b[39m\u001b[38;5;124m \u001b[39m\u001b[38;5;124m'\u001b[39m\u001b[38;5;241m.\u001b[39mjoin(cmd)\u001b[38;5;132;01m}\u001b[39;00m\u001b[38;5;130;01m\\n\u001b[39;00m\u001b[38;5;132;01m{\u001b[39;00mcompile_stderr\u001b[38;5;132;01m}\u001b[39;00m\u001b[38;5;124m\"\u001b[39m\n\u001b[0;32m   2651\u001b[0m     )\n\u001b[0;32m   2652\u001b[0m \u001b[38;5;28;01melif\u001b[39;00m config\u001b[38;5;241m.\u001b[39mcmodule__compilation_warning \u001b[38;5;129;01mand\u001b[39;00m compile_stderr:\n\u001b[0;32m   2653\u001b[0m     \u001b[38;5;66;03m# Print errors just below the command line.\u001b[39;00m\n\u001b[0;32m   2654\u001b[0m     \u001b[38;5;28mprint\u001b[39m(compile_stderr)\n",
      "\u001b[1;31mCompileError\u001b[0m: Compilation failed (return status=1):\n\"C:\\MinGW\\bin\\g++.exe\" -shared -g -Wno-c++11-narrowing -fno-exceptions -fno-unwind-tables -fno-asynchronous-unwind-tables -DNPY_NO_DEPRECATED_API=NPY_1_7_API_VERSION -m64 -DMS_WIN64 -I\"C:\\Users\\macie\\anaconda3\\envs\\pymc_env\\Lib\\site-packages\\numpy\\core\\include\" -I\"C:\\Users\\macie\\anaconda3\\envs\\pymc_env\\include\" -I\"C:\\Users\\macie\\anaconda3\\envs\\pymc_env\\Lib\\site-packages\\pytensor\\link\\c\\c_code\" -L\"C:\\Users\\macie\\anaconda3\\envs\\pymc_env\\libs\" -L\"C:\\Users\\macie\\anaconda3\\envs\\pymc_env\" -o \"C:\\Users\\macie\\AppData\\Local\\PyTensor\\compiledir_Windows-10-10.0.22621-SP0-Intel64_Family_6_Model_158_Stepping_10_GenuineIntel-3.11.6-64\\lazylinker_ext\\lazylinker_ext.pyd\" \"C:\\Users\\macie\\AppData\\Local\\PyTensor\\compiledir_Windows-10-10.0.22621-SP0-Intel64_Family_6_Model_158_Stepping_10_GenuineIntel-3.11.6-64\\lazylinker_ext\\mod.cpp\" \"C:\\Users\\macie\\anaconda3\\envs\\pymc_env\\python311.dll\"\ncc1plus.exe: sorry, unimplemented: 64-bit mode not compiled in\n"
     ]
    }
   ],
   "source": [
    "num_samples = 1000\n",
    "model = pm.Model()\n",
    "\n",
    "with model:\n",
    "    # Defining our priors\n",
    "    w0 = pm.Normal('w0', mu=0, sigma=20)\n",
    "    w1 = pm.Normal('w1', mu=0, sigma=20)\n",
    "    sigma = pm.Uniform('sigma', lower=0, upper=20)\n",
    "\n",
    "    y_est = w0 + w1*x # auxiliary variables\n",
    "\n",
    "    likelihood = pm.Normal('y', mu=y_est, sigma=sigma, observed=y)\n",
    "    \n",
    "    # inference\n",
    "    sampler = pm.NUTS() # Hamiltonian MCMC with No U-Turn Sampler \n",
    "    # or alternatively\n",
    "    # sampler = pm.Metropolis()\n",
    "    \n",
    "    idata = pm.sample(num_samples, step=sampler, progressbar=True, cores=2, chains=2)\n",
    "    "
   ]
  },
  {
   "cell_type": "markdown",
   "metadata": {},
   "source": [
    "The `idata` variable is an [`Inference Object`](https://python.arviz.org/en/latest/api/generated/arviz.InferenceData.html#arviz.InferenceData) instance which now contains the sampled values from the posterior distribution for each of the model parameters (and other useful information). Information on each variable can be accessed from the `idata.posterior` attribute using dictionary syntax, for example: `w1_trace = idata.posterior['w1']`. \n",
    "\n",
    "When using pyMC one almost always runs multiple chains: if the estimates (e.g. of posterior means) we get from each chain are close then that is evidence that each chain converged (i.e. ended up sampling from the same distribution). In the pyMC run we have just done we asked for 2 Markov chains so `idata.posterior['w1']` has information on both chains. The sampled values from the first chain are contained in `idata.posterior['w1'][0]`. `idata.posterior['w1'][0]` is an object of type [`xarray.DataArray`](https://docs.xarray.dev/en/stable/generated/xarray.DataArray.html#xarray.DataArray). If you want the sampled values of the first chain for `w1` as a numpy array then you need `idata.posterior['w1'][0].values`\n",
    "\n",
    "Make the following plots:\n",
    "- Histogram of the samples of $p(w_0 \\vert \\mathcal{D})$, $p(w_1 \\vert \\mathcal{D})$ and $p(\\sigma \\vert \\mathcal{D})$\n",
    "- A two-dimensional histogram of $p(w_0, w_1 \\vert \\mathcal{D})$ (see [hist2d](https://matplotlib.org/3.1.1/api/_as_gen/matplotlib.pyplot.hist2d.html)). What is the relationship between these two parameters and how do you interpret this relationship in terms of the model?\n"
   ]
  },
  {
   "cell_type": "code",
   "execution_count": null,
   "metadata": {},
   "outputs": [],
   "source": [
    "# write your code here\n"
   ]
  },
  {
   "cell_type": "markdown",
   "metadata": {},
   "source": [
    "Now that you have analysed the output of PyMC 'by hand', let's do it the easy way using the `plot_trace` method! Instead of generating a histogram we'll get a smoothed estimate of the posterior distributions. We'll do this first where we combine samples from the two chains and then get estimates of posterior distributions from the two chains separately."
   ]
  },
  {
   "cell_type": "code",
   "execution_count": null,
   "metadata": {},
   "outputs": [],
   "source": [
    "az.plot_trace(idata, combined=True)\n",
    "az.plot_trace(idata,legend=True)"
   ]
  },
  {
   "cell_type": "markdown",
   "metadata": {},
   "source": [
    "The traces on the right side are the sampled values used to construct the estimated posterior densities on the left. The trace for chain 0 has a dotted line, that for chain 1 a solid line.\n",
    "\n",
    "We can also get a useful textual summary of the MCMC run:"
   ]
  },
  {
   "cell_type": "code",
   "execution_count": null,
   "metadata": {},
   "outputs": [],
   "source": [
    "az.summary(idata, round_to=2)"
   ]
  },
  {
   "cell_type": "markdown",
   "metadata": {},
   "source": [
    "The $\\hat{R}$ quantity (last column) is the [Gelman-Rubin statistic](https://pymcmc.readthedocs.io/en/latest/modelchecking.html#convergence-diagnostics) which measures (roughly speaking) how similar our 2 Markov chains are. A value close to 1 (say less than 1.1) is evidence that both chains have converged. In the table above all $\\hat{R}$ values are exactly 1, so all is good."
   ]
  },
  {
   "cell_type": "markdown",
   "metadata": {},
   "source": [
    "### Exercises:\n",
    "1. Experiment with changing the prior distributions within the model: \n",
    "    - How does changing the prior distributions' mean or variance affect the posterior belief?\n",
    "    - What happens if the uniform distribution prior over $\\sigma$ is changed to exclude the true value? (e.g. $p(\\sigma) = U(5, 20)$)\n",
    "    \n",
    "2. Introduce a new parameter, $w_2$, to the data generation code such that\n",
    "    $$ y_i = w_0 + w_1x_i + w_2x_i^2+ \\epsilon$$\n",
    "   and adjust the model to perform inference for this parameter from the data.\n",
    "\n",
    "## Wrap up\n",
    "\n",
    "This lab covered a number of topics so let's recap:\n",
    "- First, we looked at a simple example of a graphical model and showed how to go about efficiently generating samples from a distribution that factorises over the graph using ancestral sampling.\n",
    "- We demonstrated the power of sampling by using samples to estimate quantities relating to the distribution.\n",
    "- We then looked at using the concepts of MCMC algorithms to generate samples from probability densities that are otherwise difficult to sample from and implemented the Metropolis algorithm.\n",
    "- Finally, we looked at the PyMC python library and how its efficient implementations of MCMC algorithms can be utilised within a Bayesian Linear Regression model.\n",
    "\n",
    "### References\n",
    "\n",
    "- COMS30035 Machine Learning lecture notes 3.\n",
    "- Bishop Pattern Recognition and Machine Learning: Chapter 3.3 for Bayesian linear regression, chapter 8.1 for graphical models and chapter 11.2 for MCMC."
   ]
  }
 ],
 "metadata": {
  "kernelspec": {
   "display_name": "Python 3 (ipykernel)",
   "language": "python",
   "name": "python3"
  },
  "language_info": {
   "codemirror_mode": {
    "name": "ipython",
    "version": 3
   },
   "file_extension": ".py",
   "mimetype": "text/x-python",
   "name": "python",
   "nbconvert_exporter": "python",
   "pygments_lexer": "ipython3",
   "version": "3.11.6"
  }
 },
 "nbformat": 4,
 "nbformat_minor": 4
}
